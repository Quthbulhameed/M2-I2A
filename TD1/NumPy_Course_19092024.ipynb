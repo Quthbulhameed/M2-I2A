{
  "cells": [
    {
      "cell_type": "code",
      "execution_count": null,
      "id": "a75b2685-301f-4790-bb7d-15090a1f97db",
      "metadata": {
        "id": "a75b2685-301f-4790-bb7d-15090a1f97db"
      },
      "outputs": [],
      "source": [
        "# Author : Mehdi Ammi, Univ. Paris 8"
      ]
    },
    {
      "cell_type": "markdown",
      "id": "b29d51f3-6462-4067-a31a-84f5d8b82de1",
      "metadata": {
        "id": "b29d51f3-6462-4067-a31a-84f5d8b82de1"
      },
      "source": [
        "# Introduction to NumPy"
      ]
    },
    {
      "cell_type": "markdown",
      "id": "f884c061-c51e-42e5-bf19-6b08b8409761",
      "metadata": {
        "id": "f884c061-c51e-42e5-bf19-6b08b8409761"
      },
      "source": [
        "NumPy (Numerical Python) is a Python library for scientific computing, that provide high-performance vector, matrix, and higher-dimensional data structures for Python. It is implemented in C and Fortran so when calculations are vectorized (formulated with vectors and matrices), the performance is very good.\n",
        "\n",
        "[Official Documentation](https://numpy.org/)\n",
        "\n",
        "It offers ndarray data structure for storing and ufuncs for efficiently processing the (homogeneous) data. Some of the important functionalities include: basic slicing, advanced or fancy indexing, broadcasting, etc.\n",
        "\n",
        "**How are NumPy arrays different from Python lists?**\n",
        " - Python lists are very general. They can contain any kind of object. They are dynamically typed.\n",
        " - They do not support mathematical functions such as matrix and dot multiplications, etc. Implementing such functions for Python lists would not be very efficient because of the dynamic typing.\n",
        " - Numpy arrays are statically typed and homogeneous. The type of the elements is determined when the array is created.\n",
        " - Numpy arrays are memory efficient.\n",
        " - Because of the static typing, fast implementation of mathematical functions such as multiplication and addition of numpy arrays can be implemented in a compiled language (C and Fortran is used)."
      ]
    },
    {
      "cell_type": "markdown",
      "id": "313aa6d5-8935-49bb-8955-d245b7b68b57",
      "metadata": {
        "id": "313aa6d5-8935-49bb-8955-d245b7b68b57"
      },
      "source": [
        "## Creating N-dimensional NumPy arrays"
      ]
    },
    {
      "cell_type": "markdown",
      "id": "fa5fe73f-11ce-482b-ad0b-b37bd5507c75",
      "metadata": {
        "id": "fa5fe73f-11ce-482b-ad0b-b37bd5507c75"
      },
      "source": [
        "### Loading Libraries\n",
        "\n",
        "First, let's import the necessary libraries:"
      ]
    },
    {
      "cell_type": "code",
      "execution_count": null,
      "id": "d3564034-95b5-4ae5-85c4-69f3741e521b",
      "metadata": {
        "colab": {
          "base_uri": "https://localhost:8080/",
          "height": 36
        },
        "id": "d3564034-95b5-4ae5-85c4-69f3741e521b",
        "outputId": "9b61d357-5c1c-4e45-ca02-43ff3d6726bc"
      },
      "outputs": [
        {
          "output_type": "execute_result",
          "data": {
            "text/plain": [
              "'1.26.4'"
            ],
            "application/vnd.google.colaboratory.intrinsic+json": {
              "type": "string"
            }
          },
          "metadata": {},
          "execution_count": 2
        }
      ],
      "source": [
        "import numpy as np\n",
        "\n",
        "# check version\n",
        "np.__version__"
      ]
    },
    {
      "cell_type": "markdown",
      "id": "0b8e4dde-1670-4b13-8d22-ea3ab63dc358",
      "metadata": {
        "id": "0b8e4dde-1670-4b13-8d22-ea3ab63dc358"
      },
      "source": [
        "There are a number of ways to initialize new numpy arrays, for example from\n",
        "\n",
        " - a Python list or tuples\n",
        " - using functions that are dedicated to generating numpy arrays, such as numpy.arange, numpy.linspace, etc.\n",
        " - reading data from files\n",
        "\n",
        "### From lists\n",
        "\n",
        "To create new vector and matrix arrays using Python lists we can use the numpy.array() function."
      ]
    },
    {
      "cell_type": "code",
      "execution_count": null,
      "id": "7944d53c-2e4f-4758-8e7e-e0cb8493c5d3",
      "metadata": {
        "colab": {
          "base_uri": "https://localhost:8080/"
        },
        "id": "7944d53c-2e4f-4758-8e7e-e0cb8493c5d3",
        "outputId": "7700cbef-62cc-4b00-d6cd-d46c00add086"
      },
      "outputs": [
        {
          "output_type": "execute_result",
          "data": {
            "text/plain": [
              "array([1, 2, 3, 4], dtype=int32)"
            ]
          },
          "metadata": {},
          "execution_count": 3
        }
      ],
      "source": [
        "# a vector: the argument to the array function is a Python list\n",
        "# more generally, 1D array\n",
        "lst = [1,2,3,4.0]\n",
        "v = np.array(lst, dtype=np.int32)\n",
        "\n",
        "v"
      ]
    },
    {
      "cell_type": "code",
      "execution_count": null,
      "id": "4c1b75a5-be1b-4248-a630-d141249656c9",
      "metadata": {
        "id": "4c1b75a5-be1b-4248-a630-d141249656c9"
      },
      "outputs": [],
      "source": []
    },
    {
      "cell_type": "code",
      "execution_count": null,
      "id": "7d941f84-a910-4ae5-b4bf-0d123155d78c",
      "metadata": {
        "colab": {
          "base_uri": "https://localhost:8080/"
        },
        "id": "7d941f84-a910-4ae5-b4bf-0d123155d78c",
        "outputId": "1cba1ee0-1976-478d-9a48-6f115f45df99"
      },
      "outputs": [
        {
          "output_type": "execute_result",
          "data": {
            "text/plain": [
              "array([[1, 2],\n",
              "       [3, 4]])"
            ]
          },
          "metadata": {},
          "execution_count": 9
        }
      ],
      "source": [
        "# a matrix: the argument to the array function is a nested Python list (can also be a tuple of tuples)\n",
        "# more generally, a 2D array\n",
        "list_of_lists = [[1, 2], [3, 4]]\n",
        "M = np.array(list_of_lists)\n",
        "\n",
        "M"
      ]
    },
    {
      "cell_type": "code",
      "execution_count": null,
      "id": "3b74bbe7-a0b7-4f87-9cf2-61dafd7a745e",
      "metadata": {
        "id": "3b74bbe7-a0b7-4f87-9cf2-61dafd7a745e"
      },
      "outputs": [],
      "source": [
        ">>\n",
        "array([[1, 2],\n",
        "       [3, 4]])"
      ]
    },
    {
      "cell_type": "code",
      "execution_count": null,
      "id": "541df4c2-fb2c-4d76-aa58-7405cf7e5c14",
      "metadata": {
        "colab": {
          "base_uri": "https://localhost:8080/"
        },
        "id": "541df4c2-fb2c-4d76-aa58-7405cf7e5c14",
        "outputId": "a4f0f6e7-a89e-4455-c5eb-11efb9cca31e"
      },
      "outputs": [
        {
          "output_type": "execute_result",
          "data": {
            "text/plain": [
              "array([[1, 2, 3, 4]], dtype=int32)"
            ]
          },
          "metadata": {},
          "execution_count": 10
        }
      ],
      "source": [
        "# a row vector\n",
        "\n",
        "row_vec = v[np.newaxis, :]  # v[None, :]\n",
        "row_vec"
      ]
    },
    {
      "cell_type": "code",
      "execution_count": null,
      "id": "3435edb0-29ce-4cc2-9815-33fa3370f46a",
      "metadata": {
        "id": "3435edb0-29ce-4cc2-9815-33fa3370f46a"
      },
      "outputs": [],
      "source": [
        ">>\n",
        "array([[1, 2, 3, 4]], dtype=int32)"
      ]
    },
    {
      "cell_type": "code",
      "execution_count": null,
      "id": "f162be03-946a-44c5-a688-851a294b85b9",
      "metadata": {
        "colab": {
          "base_uri": "https://localhost:8080/"
        },
        "id": "f162be03-946a-44c5-a688-851a294b85b9",
        "outputId": "373a7efd-aa8c-47cb-e0e3-ce444e38aba6"
      },
      "outputs": [
        {
          "output_type": "execute_result",
          "data": {
            "text/plain": [
              "array([[1],\n",
              "       [2],\n",
              "       [3],\n",
              "       [4]], dtype=int32)"
            ]
          },
          "metadata": {},
          "execution_count": 8
        }
      ],
      "source": [
        "# a column vector\n",
        "col_vec = v[:, np.newaxis]  # v[:, None]\n",
        "col_vec"
      ]
    },
    {
      "cell_type": "code",
      "execution_count": null,
      "id": "a56f9ef9-aa48-4dbd-9c23-ff171f8d6b41",
      "metadata": {
        "id": "a56f9ef9-aa48-4dbd-9c23-ff171f8d6b41"
      },
      "outputs": [],
      "source": [
        ">>\n",
        "array([[1],\n",
        "       [2],\n",
        "       [3],\n",
        "       [4]], dtype=int32)"
      ]
    },
    {
      "cell_type": "markdown",
      "id": "7d5830a0-474d-4c56-b626-c77b9c01bb91",
      "metadata": {
        "id": "7d5830a0-474d-4c56-b626-c77b9c01bb91"
      },
      "source": [
        "### Construction using intrinsic array generating functions\n",
        "\n",
        "NumPy provides many functions for generating arrays. Some of them are:\n",
        "\n",
        " - numpy.arange()\n",
        " - numpy.linspace()\n",
        " - numpy.logspace()\n",
        " - numpy.random."
      ]
    },
    {
      "cell_type": "code",
      "execution_count": null,
      "id": "199955ce-b519-46e5-8b01-e6f5f7df059d",
      "metadata": {
        "colab": {
          "base_uri": "https://localhost:8080/"
        },
        "id": "199955ce-b519-46e5-8b01-e6f5f7df059d",
        "outputId": "6202b1eb-07cd-495e-c565-02cb58ea4797"
      },
      "outputs": [
        {
          "output_type": "execute_result",
          "data": {
            "text/plain": [
              "array([ 0.        ,  0.20408163,  0.40816327,  0.6122449 ,  0.81632653,\n",
              "        1.02040816,  1.2244898 ,  1.42857143,  1.63265306,  1.83673469,\n",
              "        2.04081633,  2.24489796,  2.44897959,  2.65306122,  2.85714286,\n",
              "        3.06122449,  3.26530612,  3.46938776,  3.67346939,  3.87755102,\n",
              "        4.08163265,  4.28571429,  4.48979592,  4.69387755,  4.89795918,\n",
              "        5.10204082,  5.30612245,  5.51020408,  5.71428571,  5.91836735,\n",
              "        6.12244898,  6.32653061,  6.53061224,  6.73469388,  6.93877551,\n",
              "        7.14285714,  7.34693878,  7.55102041,  7.75510204,  7.95918367,\n",
              "        8.16326531,  8.36734694,  8.57142857,  8.7755102 ,  8.97959184,\n",
              "        9.18367347,  9.3877551 ,  9.59183673,  9.79591837, 10.        ])"
            ]
          },
          "metadata": {},
          "execution_count": 11
        }
      ],
      "source": [
        "# when using linspace, both end points ARE included\n",
        "np.linspace(0, 10)"
      ]
    },
    {
      "cell_type": "code",
      "execution_count": null,
      "id": "784f872c-6ce4-4971-a058-330d28f12792",
      "metadata": {
        "id": "784f872c-6ce4-4971-a058-330d28f12792"
      },
      "outputs": [],
      "source": [
        ">>\n",
        "array([ 0.        ,  0.20408163,  0.40816327,  0.6122449 ,  0.81632653,\n",
        "        1.02040816,  1.2244898 ,  1.42857143,  1.63265306,  1.83673469,\n",
        "        2.04081633,  2.24489796,  2.44897959,  2.65306122,  2.85714286,\n",
        "        3.06122449,  3.26530612,  3.46938776,  3.67346939,  3.87755102,\n",
        "        4.08163265,  4.28571429,  4.48979592,  4.69387755,  4.89795918,\n",
        "        5.10204082,  5.30612245,  5.51020408,  5.71428571,  5.91836735,\n",
        "        6.12244898,  6.32653061,  6.53061224,  6.73469388,  6.93877551,\n",
        "        7.14285714,  7.34693878,  7.55102041,  7.75510204,  7.95918367,\n",
        "        8.16326531,  8.36734694,  8.57142857,  8.7755102 ,  8.97959184,\n",
        "        9.18367347,  9.3877551 ,  9.59183673,  9.79591837, 10.        ])"
      ]
    },
    {
      "cell_type": "code",
      "execution_count": null,
      "id": "2413a1f2-6ae9-48b1-8af7-421ae67295ea",
      "metadata": {
        "id": "2413a1f2-6ae9-48b1-8af7-421ae67295ea"
      },
      "outputs": [],
      "source": [
        "np.logspace(0, 5, 10, base=np.e)"
      ]
    },
    {
      "cell_type": "code",
      "execution_count": null,
      "id": "c67f43a8-af30-466f-9900-51c20624d038",
      "metadata": {
        "id": "c67f43a8-af30-466f-9900-51c20624d038"
      },
      "outputs": [],
      "source": [
        ">>\n",
        "array([  1.        ,   1.742909  ,   3.03773178,   5.29449005,\n",
        "         9.22781435,  16.08324067,  28.03162489,  48.85657127,\n",
        "        85.15255772, 148.4131591 ])"
      ]
    },
    {
      "cell_type": "code",
      "execution_count": null,
      "id": "be944252-6c99-431e-aebe-71d8275f4b1e",
      "metadata": {
        "colab": {
          "base_uri": "https://localhost:8080/"
        },
        "id": "be944252-6c99-431e-aebe-71d8275f4b1e",
        "outputId": "f256809f-12b8-452c-a156-46517e5b50a0"
      },
      "outputs": [
        {
          "output_type": "execute_result",
          "data": {
            "text/plain": [
              "array([[[-0.44891735,  0.19447244, -1.88541278,  0.1196741 ],\n",
              "        [ 0.53652271, -1.88831752, -0.50840962, -0.10433863],\n",
              "        [ 0.01378799, -0.44293044,  0.38306876, -0.79780555]],\n",
              "\n",
              "       [[-0.22497139, -1.26221108, -0.93122671, -0.76423212],\n",
              "        [ 0.24861697, -1.50625029, -0.19160836,  0.47200446],\n",
              "        [ 0.35716211, -0.68629192, -0.38082858,  0.23943558]]])"
            ]
          },
          "metadata": {},
          "execution_count": 12
        }
      ],
      "source": [
        "# a 3D array\n",
        "# a random array where the values come from a standard Normal distribution\n",
        "gaussian = np.random.randn(2 * 3 * 4)\n",
        "\n",
        "# reshape the array to desired shape.\n",
        "# only the number of dimensions can be altered\n",
        "# the number of elements CANNOT be changed during a reshape operation\n",
        "\n",
        "gaussian = gaussian.reshape(2, 3, 4)\n",
        "gaussian"
      ]
    },
    {
      "cell_type": "code",
      "execution_count": null,
      "id": "6e8b2175-e090-445a-98b5-0dae84d2790f",
      "metadata": {
        "id": "6e8b2175-e090-445a-98b5-0dae84d2790f"
      },
      "outputs": [],
      "source": [
        ">>\n",
        "array([[[ 0.41541553, -0.8747973 ,  0.15095532,  1.84904123],\n",
        "        [-0.56014374,  1.63895079,  1.27462562, -0.46117795],\n",
        "        [-0.11496104, -0.62632673,  0.39435467, -0.78113887]],\n",
        "\n",
        "       [[ 0.24521882, -0.45360077,  0.65377784, -0.28579184],\n",
        "        [-0.79458074, -1.16854651,  0.95008769,  1.00244117],\n",
        "        [-0.62781925,  1.01931728, -1.15421105, -0.91988477]]])"
      ]
    },
    {
      "cell_type": "code",
      "execution_count": null,
      "id": "0b096a30-9115-403e-a263-021a1040df4d",
      "metadata": {
        "colab": {
          "base_uri": "https://localhost:8080/"
        },
        "id": "0b096a30-9115-403e-a263-021a1040df4d",
        "outputId": "1d6826cf-3930-406a-e7cf-e2aba14a004c"
      },
      "outputs": [
        {
          "output_type": "execute_result",
          "data": {
            "text/plain": [
              "array([[0., 0., 0., 0.],\n",
              "       [0., 0., 0., 0.],\n",
              "       [0., 0., 0., 0.]])"
            ]
          },
          "metadata": {},
          "execution_count": 13
        }
      ],
      "source": [
        "# an array full of zero values\n",
        "# one can also specify a desired datatype\n",
        "\n",
        "zero_arr = np.zeros((3, 4))\n",
        "zero_arr"
      ]
    },
    {
      "cell_type": "code",
      "execution_count": null,
      "id": "46931267-f107-43d6-88e9-b4ed610c1e83",
      "metadata": {
        "id": "46931267-f107-43d6-88e9-b4ed610c1e83"
      },
      "outputs": [],
      "source": [
        ">>\n",
        "array([[0., 0., 0., 0.],\n",
        "       [0., 0., 0., 0.],\n",
        "       [0., 0., 0., 0.]])"
      ]
    },
    {
      "cell_type": "code",
      "execution_count": null,
      "id": "a361b4b3-4479-4607-9f61-c61891b2cdbe",
      "metadata": {
        "colab": {
          "base_uri": "https://localhost:8080/"
        },
        "id": "a361b4b3-4479-4607-9f61-c61891b2cdbe",
        "outputId": "09406ef7-b57d-425c-8aa3-2773ce4412e0"
      },
      "outputs": [
        {
          "output_type": "execute_result",
          "data": {
            "text/plain": [
              "array([[1., 1., 1., 1.],\n",
              "       [1., 1., 1., 1.],\n",
              "       [1., 1., 1., 1.]], dtype=float32)"
            ]
          },
          "metadata": {},
          "execution_count": 17
        }
      ],
      "source": [
        "# an array full of ones\n",
        "# one can also specify datatype\n",
        "\n",
        "ones_arr = np.ones((3, 4), dtype=np.float32)\n",
        "ones_arr"
      ]
    },
    {
      "cell_type": "code",
      "execution_count": null,
      "id": "93b2b03d-3627-47a8-aae2-acfbb350c9af",
      "metadata": {
        "id": "93b2b03d-3627-47a8-aae2-acfbb350c9af"
      },
      "outputs": [],
      "source": [
        ">>\n",
        "array([[1., 1., 1., 1.],\n",
        "       [1., 1., 1., 1.],\n",
        "       [1., 1., 1., 1.]], dtype=float32)"
      ]
    },
    {
      "cell_type": "code",
      "execution_count": null,
      "id": "650e8412-67e9-4e67-a4a4-62c497ada750",
      "metadata": {
        "colab": {
          "base_uri": "https://localhost:8080/"
        },
        "id": "650e8412-67e9-4e67-a4a4-62c497ada750",
        "outputId": "e8d23440-e0ad-434e-fc14-786d2f89cbd8"
      },
      "outputs": [
        {
          "output_type": "execute_result",
          "data": {
            "text/plain": [
              "array([[1., 0., 0.],\n",
              "       [0., 1., 0.],\n",
              "       [0., 0., 1.]], dtype=float128)"
            ]
          },
          "metadata": {},
          "execution_count": 18
        }
      ],
      "source": [
        "# a 3x3 identity (matrix) array\n",
        "\n",
        "iden = np.identity(3, dtype=np.float128)  # np.eye(4, dtype=np.float128)\n",
        "iden"
      ]
    },
    {
      "cell_type": "code",
      "execution_count": null,
      "id": "a4f8af3c-6fc9-498f-8500-6bfb8acc6032",
      "metadata": {
        "id": "a4f8af3c-6fc9-498f-8500-6bfb8acc6032"
      },
      "outputs": [],
      "source": [
        ">>\n",
        "array([[1., 0., 0.],\n",
        "       [0., 1., 0.],\n",
        "       [0., 0., 1.]], dtype=float128)"
      ]
    },
    {
      "cell_type": "code",
      "execution_count": null,
      "id": "5238be2b-38ab-460a-b684-51535ec99c7f",
      "metadata": {
        "colab": {
          "base_uri": "https://localhost:8080/"
        },
        "id": "5238be2b-38ab-460a-b684-51535ec99c7f",
        "outputId": "83e61d6a-6f99-4cb9-82fe-f0953296c1a3"
      },
      "outputs": [
        {
          "output_type": "execute_result",
          "data": {
            "text/plain": [
              "array([[1., 0., 0., 0.],\n",
              "       [0., 2., 0., 0.],\n",
              "       [0., 0., 3., 0.],\n",
              "       [0., 0., 0., 4.]])"
            ]
          },
          "metadata": {},
          "execution_count": 19
        }
      ],
      "source": [
        "# a diagonal array\n",
        "\n",
        "diag = np.diag([1, 2, 3, 4.0])\n",
        "diag"
      ]
    },
    {
      "cell_type": "code",
      "execution_count": null,
      "id": "20865539-a5f4-4771-ae21-23a21c5db0a3",
      "metadata": {
        "id": "20865539-a5f4-4771-ae21-23a21c5db0a3"
      },
      "outputs": [],
      "source": [
        ">>\n",
        "array([[1., 0., 0., 0.],\n",
        "       [0., 2., 0., 0.],\n",
        "       [0., 0., 3., 0.],\n",
        "       [0., 0., 0., 4.]])"
      ]
    },
    {
      "cell_type": "markdown",
      "id": "57f78c86-b5a4-4020-a16f-7a71ba7ffadb",
      "metadata": {
        "id": "57f78c86-b5a4-4020-a16f-7a71ba7ffadb"
      },
      "source": [
        "## NumPy Array Attributes\n",
        "\n",
        "Attributes of arrays include:\n",
        "- **Determining the size, shape, memory consumption, and data types of arrays**\n",
        "- **Indexing of arrays**: Getting and setting the value of individual array elements\n",
        "- **Slicing of arrays**: Getting and setting smaller subarrays within a larger array\n",
        "- **Reshaping of arrays**: Changing the shape of a given array\n",
        "- **Joining and splitting of arrays**: Combining multiple arrays into one, and splitting one array into many\n",
        "\n",
        "Each array has attributes such as:\n",
        "\n",
        "- `ndim`: The number of dimensions\n",
        "- `shape`: The size of each dimension\n",
        "- `size`: The total number of elements in the array"
      ]
    },
    {
      "cell_type": "code",
      "execution_count": null,
      "id": "c3b8a71d-8d08-4e54-9a86-9d0a93ea766e",
      "metadata": {
        "id": "c3b8a71d-8d08-4e54-9a86-9d0a93ea766e"
      },
      "outputs": [],
      "source": [
        "# a 3D random array where the values come from a standard Normal distribution\n",
        "gaussian = np.random.randn(2 * 3 * 4).reshape((2, 3, 4))"
      ]
    },
    {
      "cell_type": "code",
      "execution_count": null,
      "id": "f0e123ea-f456-4be6-a3f1-e68af26b5b94",
      "metadata": {
        "colab": {
          "base_uri": "https://localhost:8080/"
        },
        "id": "f0e123ea-f456-4be6-a3f1-e68af26b5b94",
        "outputId": "2c0fe7da-8646-4ef3-f0ac-1f0150f9e354"
      },
      "outputs": [
        {
          "output_type": "stream",
          "name": "stdout",
          "text": [
            "total dimensions of the array is:  3\n",
            "the shape of the array is:  (2, 3, 4)\n",
            "total number of items is:  24\n",
            "memory consumed by each item is:  8\n",
            "total memory consumed by the whole array is:  192\n"
          ]
        }
      ],
      "source": [
        "# get number of dimensions of the array\n",
        "gaussian.ndim\n",
        "print(\"total dimensions of the array is: \", gaussian.ndim)\n",
        "\n",
        "# get the shape of the array\n",
        "gaussian.shape\n",
        "print(\"the shape of the array is: \", gaussian.shape)\n",
        "\n",
        "# get the total number of elements in the array\n",
        "gaussian.size\n",
        "print(\"total number of items is: \", gaussian.size)\n",
        "\n",
        "# get memory consumed by each item in the array\n",
        "gaussian.itemsize\n",
        "print(\"memory consumed by each item is: \", gaussian.itemsize)\n",
        "\n",
        "# get memory consumed by the array\n",
        "gaussian.nbytes\n",
        "print(\"total memory consumed by the whole array is: \", gaussian.nbytes)"
      ]
    },
    {
      "cell_type": "code",
      "execution_count": null,
      "id": "c7ea5cb9-fedd-4708-a401-28f810357018",
      "metadata": {
        "id": "c7ea5cb9-fedd-4708-a401-28f810357018"
      },
      "outputs": [],
      "source": [
        ">>\n",
        "total dimensions of the array is:  3\n",
        "the shape of the array is:  (2, 3, 4)\n",
        "total number of items is:  24\n",
        "memory consumed by each item is:  8\n",
        "total memory consumed by the whole array is:  192"
      ]
    },
    {
      "cell_type": "markdown",
      "id": "5ad23b67-5766-48a8-ac4c-4aeb83b65e7c",
      "metadata": {
        "id": "5ad23b67-5766-48a8-ac4c-4aeb83b65e7c"
      },
      "source": [
        "## Array Indexing\n",
        "\n",
        "We can index elements in an array using square brackets and indices. For 1D arrays, indexing works the same as with Python list."
      ]
    },
    {
      "cell_type": "code",
      "execution_count": null,
      "id": "4f97a8b4-60df-4cfb-be25-44850dd90252",
      "metadata": {
        "colab": {
          "base_uri": "https://localhost:8080/"
        },
        "id": "4f97a8b4-60df-4cfb-be25-44850dd90252",
        "outputId": "72124ff2-1991-4eda-da2d-686e3d316077"
      },
      "outputs": [
        {
          "output_type": "execute_result",
          "data": {
            "text/plain": [
              "array([19,  0, 12, 12,  6, 13, 10,  5,  2, 16])"
            ]
          },
          "metadata": {},
          "execution_count": 23
        }
      ],
      "source": [
        "# 1D array of random integers\n",
        "# get 10 integers from 0 to 23\n",
        "\n",
        "num_samples = 10\n",
        "integers = np.random.randint(23, size=num_samples)\n",
        "integers"
      ]
    },
    {
      "cell_type": "code",
      "execution_count": null,
      "id": "7f86b3e3-ccd8-4656-943a-0e72133e6326",
      "metadata": {
        "id": "7f86b3e3-ccd8-4656-943a-0e72133e6326"
      },
      "outputs": [],
      "source": [
        ">>\n",
        "array([ 0,  4, 16,  6, 22, 19,  7, 12,  8, 21])"
      ]
    },
    {
      "cell_type": "code",
      "execution_count": null,
      "id": "0f587664-43a7-4ed9-88c4-765e6352f8cf",
      "metadata": {
        "colab": {
          "base_uri": "https://localhost:8080/"
        },
        "id": "0f587664-43a7-4ed9-88c4-765e6352f8cf",
        "outputId": "41f65302-61dd-4d29-bcf6-f39e40751c90"
      },
      "outputs": [
        {
          "output_type": "execute_result",
          "data": {
            "text/plain": [
              "12"
            ]
          },
          "metadata": {},
          "execution_count": 24
        }
      ],
      "source": [
        "# indexing 1D array needs only one index\n",
        "# get 3rd element (remember: NumPy unlike MATLAB is 0 based indexing)\n",
        "integers[2]"
      ]
    },
    {
      "cell_type": "code",
      "execution_count": null,
      "id": "c0359bde-30e9-4b50-a71d-3088d6c8ebc6",
      "metadata": {
        "id": "c0359bde-30e9-4b50-a71d-3088d6c8ebc6"
      },
      "outputs": [],
      "source": [
        ">>\n",
        "16"
      ]
    },
    {
      "cell_type": "code",
      "execution_count": null,
      "id": "f3dd4fab-33b7-45a3-ba69-0706539837a7",
      "metadata": {
        "id": "f3dd4fab-33b7-45a3-ba69-0706539837a7"
      },
      "outputs": [],
      "source": [
        "twoD_arr = np.arange(1, 46).reshape(3, -1)\n",
        "twoD_arr"
      ]
    },
    {
      "cell_type": "code",
      "execution_count": null,
      "id": "5297c7cf-37e2-449f-811b-aade6f53b633",
      "metadata": {
        "id": "5297c7cf-37e2-449f-811b-aade6f53b633"
      },
      "outputs": [],
      "source": [
        "array([[ 1,  2,  3,  4,  5,  6,  7,  8,  9, 10, 11, 12, 13, 14, 15],\n",
        "       [16, 17, 18, 19, 20, 21, 22, 23, 24, 25, 26, 27, 28, 29, 30],\n",
        "       [31, 32, 33, 34, 35, 36, 37, 38, 39, 40, 41, 42, 43, 44, 45]])"
      ]
    },
    {
      "cell_type": "code",
      "execution_count": null,
      "id": "c1bd2694-3730-4be9-bfde-0b1b68e5d534",
      "metadata": {
        "id": "c1bd2694-3730-4be9-bfde-0b1b68e5d534"
      },
      "outputs": [],
      "source": [
        "# indexing 2D array needs only two indices.\n",
        "# then it returns a scalar value\n",
        "\n",
        "# value at last row and last column\n",
        "twoD_arr[-1, -1]"
      ]
    },
    {
      "cell_type": "code",
      "execution_count": null,
      "id": "9c8b2cb1-3dd9-43c8-a4f8-15a3f59b071e",
      "metadata": {
        "id": "9c8b2cb1-3dd9-43c8-a4f8-15a3f59b071e"
      },
      "outputs": [],
      "source": [
        ">>\n",
        "45"
      ]
    },
    {
      "cell_type": "code",
      "execution_count": null,
      "id": "e3653a6c-9a07-48a6-b7bf-d6d5374dbd45",
      "metadata": {
        "id": "e3653a6c-9a07-48a6-b7bf-d6d5374dbd45"
      },
      "outputs": [],
      "source": [
        "# however, if we use only one (valid) index then it returns a 1D array\n",
        "\n",
        "# get all elments in the last row\n",
        "twoD_arr[-1]  # or twoD_arr[-1, ] or twoD_arr[-1, :]"
      ]
    },
    {
      "cell_type": "code",
      "execution_count": null,
      "id": "77031854-44c0-49df-9e75-d4318f78172e",
      "metadata": {
        "id": "77031854-44c0-49df-9e75-d4318f78172e"
      },
      "outputs": [],
      "source": [
        ">>\n",
        "array([31, 32, 33, 34, 35, 36, 37, 38, 39, 40, 41, 42, 43, 44, 45])"
      ]
    },
    {
      "cell_type": "code",
      "execution_count": null,
      "id": "70fbe358-e898-496c-9266-b480c7354afc",
      "metadata": {
        "id": "70fbe358-e898-496c-9266-b480c7354afc"
      },
      "outputs": [],
      "source": [
        "# remember `gaussian` is a 3D array.\n",
        "gaussian"
      ]
    },
    {
      "cell_type": "code",
      "execution_count": null,
      "id": "e1e7ae39-0ef7-4aff-a626-27517757796e",
      "metadata": {
        "id": "e1e7ae39-0ef7-4aff-a626-27517757796e"
      },
      "outputs": [],
      "source": [
        ">>\n",
        "array([[[-1.24336147, -0.23806955,  1.07747428, -0.50192961],\n",
        "        [ 0.51076712,  0.84448581,  0.87265159,  0.14996984],\n",
        "        [-0.67491747, -0.91893385,  2.78620975, -0.77090699]],\n",
        "\n",
        "       [[ 1.18190561, -0.80861693, -3.56556081,  0.63648925],\n",
        "        [-0.83482671, -0.62060468,  0.10749168,  0.47283747],\n",
        "        [-0.75846323, -0.92861168, -0.03909349, -2.39948965]]])"
      ]
    },
    {
      "cell_type": "code",
      "execution_count": null,
      "id": "0159d1ed-762a-4749-a5eb-4638d075a8d6",
      "metadata": {
        "id": "0159d1ed-762a-4749-a5eb-4638d075a8d6"
      },
      "outputs": [],
      "source": [
        "# So, a 2D array is returned when using one index\n",
        "\n",
        "# return last slice\n",
        "gaussian[-1]"
      ]
    },
    {
      "cell_type": "code",
      "execution_count": null,
      "id": "8015af3a-55f7-4814-8353-09dc647b5e97",
      "metadata": {
        "id": "8015af3a-55f7-4814-8353-09dc647b5e97"
      },
      "outputs": [],
      "source": [
        ">>\n",
        "array([[ 1.18190561, -0.80861693, -3.56556081,  0.63648925],\n",
        "       [-0.83482671, -0.62060468,  0.10749168,  0.47283747],\n",
        "       [-0.75846323, -0.92861168, -0.03909349, -2.39948965]])"
      ]
    },
    {
      "cell_type": "code",
      "execution_count": null,
      "id": "d93a33a2-183f-4e89-af53-f9e7971af5ae",
      "metadata": {
        "colab": {
          "base_uri": "https://localhost:8080/"
        },
        "id": "d93a33a2-183f-4e89-af53-f9e7971af5ae",
        "outputId": "63dd1a4a-387a-4e1c-e31d-913bbb9240e6"
      },
      "outputs": [
        {
          "output_type": "execute_result",
          "data": {
            "text/plain": [
              "array([ 0.38496916, -0.2833412 ,  0.32138665, -1.02537045])"
            ]
          },
          "metadata": {},
          "execution_count": 25
        }
      ],
      "source": [
        "# a 1D array is returned when using a pair of indices\n",
        "\n",
        "# return first row from last slice\n",
        "gaussian[-1, 0]"
      ]
    },
    {
      "cell_type": "code",
      "execution_count": null,
      "id": "461e2e33-5b22-4416-b40c-438912c6c58b",
      "metadata": {
        "id": "461e2e33-5b22-4416-b40c-438912c6c58b"
      },
      "outputs": [],
      "source": [
        ">>\n",
        "array([ 1.18190561, -0.80861693, -3.56556081,  0.63648925])"
      ]
    },
    {
      "cell_type": "code",
      "execution_count": null,
      "id": "c45289d1-11f0-45bf-a3ae-721b0446e810",
      "metadata": {
        "id": "c45289d1-11f0-45bf-a3ae-721b0446e810"
      },
      "outputs": [],
      "source": [
        "# return last row from last slice\n",
        "gaussian[-1, -1]"
      ]
    },
    {
      "cell_type": "code",
      "execution_count": null,
      "id": "2c43e048-4419-43f0-8b75-be8c84155066",
      "metadata": {
        "id": "2c43e048-4419-43f0-8b75-be8c84155066"
      },
      "outputs": [],
      "source": [
        ">>\n",
        "array([-0.75846323, -0.92861168, -0.03909349, -2.39948965])"
      ]
    },
    {
      "cell_type": "code",
      "execution_count": null,
      "id": "23a6ed59-7b05-4ee9-a0a3-bca1bf44ee3b",
      "metadata": {
        "id": "23a6ed59-7b05-4ee9-a0a3-bca1bf44ee3b"
      },
      "outputs": [],
      "source": [
        "# return last element of row of last slice\n",
        "idx = (-1, -1, -1)\n",
        "gaussian[idx]"
      ]
    },
    {
      "cell_type": "code",
      "execution_count": null,
      "id": "b99c2e74-567d-41b3-9dfe-1cd1a343d5d8",
      "metadata": {
        "id": "b99c2e74-567d-41b3-9dfe-1cd1a343d5d8"
      },
      "outputs": [],
      "source": [
        ">>\n",
        "-2.3994896530870284"
      ]
    },
    {
      "cell_type": "markdown",
      "id": "391f0a70-a2c1-4b8d-aa35-de85d277884e",
      "metadata": {
        "id": "391f0a70-a2c1-4b8d-aa35-de85d277884e"
      },
      "source": [
        "We can also assign new values to elements in an array using indexing:"
      ]
    },
    {
      "cell_type": "code",
      "execution_count": null,
      "id": "9c3e01fe-ea0b-40a7-80ed-5e23f9218109",
      "metadata": {
        "id": "9c3e01fe-ea0b-40a7-80ed-5e23f9218109"
      },
      "outputs": [],
      "source": [
        "# updating the array by assigning values\n",
        "# truncation will happen if there's a datatype mismatch\n",
        "#print(integers)\n",
        "integers[2] = 99.21\n",
        "integers"
      ]
    },
    {
      "cell_type": "code",
      "execution_count": null,
      "id": "d39fac29-71a3-4e5b-9446-002a2c8d5706",
      "metadata": {
        "id": "d39fac29-71a3-4e5b-9446-002a2c8d5706"
      },
      "outputs": [],
      "source": [
        ">>\n",
        "array([ 0,  4, 99,  6, 22, 19,  7, 12,  8, 21])"
      ]
    },
    {
      "cell_type": "markdown",
      "id": "6898df0d-88d1-4a35-98c1-0fdac7efda03",
      "metadata": {
        "id": "6898df0d-88d1-4a35-98c1-0fdac7efda03"
      },
      "source": [
        "## Index slicing\n",
        "\n",
        "Index slicing is the technical name for the syntax M[lower:upper:step] to extract part of an array.\n",
        "Negative indices counts from the end of the array (positive index from the begining):"
      ]
    },
    {
      "cell_type": "code",
      "execution_count": null,
      "id": "e9c17283-8d95-47ac-9b47-0fd5e3dca2bf",
      "metadata": {
        "id": "e9c17283-8d95-47ac-9b47-0fd5e3dca2bf"
      },
      "outputs": [],
      "source": [
        "integers"
      ]
    },
    {
      "cell_type": "code",
      "execution_count": null,
      "id": "d519ed2a-447b-47e0-93f6-a4f114a28798",
      "metadata": {
        "id": "d519ed2a-447b-47e0-93f6-a4f114a28798"
      },
      "outputs": [],
      "source": [
        ">>\n",
        "array([ 0,  4, 99,  6, 22, 19,  7, 12,  8, 21])"
      ]
    },
    {
      "cell_type": "code",
      "execution_count": null,
      "id": "f5f40502-9671-4e7e-af20-f94954356989",
      "metadata": {
        "id": "f5f40502-9671-4e7e-af20-f94954356989"
      },
      "outputs": [],
      "source": [
        "# slice a portion of the array\n",
        "# similar to Python iterator slicing\n",
        "# x[start:stop:step]\n",
        "\n",
        "# get last 5 elements\n",
        "integers[-5:]\n",
        "\n",
        "# if `stop` is omitted then it'll be sliced till the end of the array\n",
        "# by default, step is 1"
      ]
    },
    {
      "cell_type": "code",
      "execution_count": null,
      "id": "79fd30b6-5508-4b96-a655-239382ebd5f2",
      "metadata": {
        "id": "79fd30b6-5508-4b96-a655-239382ebd5f2"
      },
      "outputs": [],
      "source": [
        ">>\n",
        "array([19,  7, 12,  8, 21])"
      ]
    },
    {
      "cell_type": "code",
      "execution_count": null,
      "id": "7db630b7-78f0-4f07-b1eb-62ce2f34d05a",
      "metadata": {
        "id": "7db630b7-78f0-4f07-b1eb-62ce2f34d05a"
      },
      "outputs": [],
      "source": [
        "# get alternative elements (every other element) from the array\n",
        "# equivalently step = 2\n",
        "\n",
        "integers[::2]"
      ]
    },
    {
      "cell_type": "code",
      "execution_count": null,
      "id": "94ca0aab-7eb0-4140-b3cb-ab9dc43c834a",
      "metadata": {
        "id": "94ca0aab-7eb0-4140-b3cb-ab9dc43c834a"
      },
      "outputs": [],
      "source": [
        ">>\n",
        "array([ 0, 99, 22,  7,  8])"
      ]
    },
    {
      "cell_type": "code",
      "execution_count": null,
      "id": "094c6db3-f7f3-43f9-a919-9c42acec2843",
      "metadata": {
        "id": "094c6db3-f7f3-43f9-a919-9c42acec2843"
      },
      "outputs": [],
      "source": [
        "# reversing the array\n",
        "integers[::-1]"
      ]
    },
    {
      "cell_type": "code",
      "execution_count": null,
      "id": "d57b3a8a-607e-490c-a3a3-1f8f751016e5",
      "metadata": {
        "id": "d57b3a8a-607e-490c-a3a3-1f8f751016e5"
      },
      "outputs": [],
      "source": [
        ">>\n",
        "array([21,  8, 12,  7, 19, 22,  6, 99,  4,  0])"
      ]
    },
    {
      "cell_type": "code",
      "execution_count": null,
      "id": "d87776ef-f9d8-4f2b-bcd7-179878143cd1",
      "metadata": {
        "id": "d87776ef-f9d8-4f2b-bcd7-179878143cd1"
      },
      "outputs": [],
      "source": [
        "# forward traversal of array\n",
        "integers[3::]"
      ]
    },
    {
      "cell_type": "code",
      "execution_count": null,
      "id": "96bd8c3b-1d97-4377-b639-4e1eac13dd82",
      "metadata": {
        "id": "96bd8c3b-1d97-4377-b639-4e1eac13dd82"
      },
      "outputs": [],
      "source": [
        ">>\n",
        "array([ 6, 22, 19,  7, 12,  8, 21])"
      ]
    },
    {
      "cell_type": "code",
      "execution_count": null,
      "id": "89114153-aef9-4c69-b00a-2199f8ddad35",
      "metadata": {
        "id": "89114153-aef9-4c69-b00a-2199f8ddad35"
      },
      "outputs": [],
      "source": [
        "# reverse travesal of array (starting from 4th element)\n",
        "integers[3::-1]"
      ]
    },
    {
      "cell_type": "code",
      "execution_count": null,
      "id": "0b873f5a-10aa-4e7b-9c7e-a122493e4486",
      "metadata": {
        "id": "0b873f5a-10aa-4e7b-9c7e-a122493e4486"
      },
      "outputs": [],
      "source": [
        ">>\n",
        "array([ 6, 99,  4,  0])"
      ]
    },
    {
      "cell_type": "markdown",
      "id": "e4a9fc75-5555-4bed-bf06-2745ffb301b5",
      "metadata": {
        "id": "e4a9fc75-5555-4bed-bf06-2745ffb301b5"
      },
      "source": [
        "Array slices are mutable: if they are assigned a new value the original array from which the slice was extracted is modified:"
      ]
    },
    {
      "cell_type": "code",
      "execution_count": null,
      "id": "9e2d0e91-e975-4ce1-ac46-7a547fcb603a",
      "metadata": {
        "id": "9e2d0e91-e975-4ce1-ac46-7a547fcb603a"
      },
      "outputs": [],
      "source": [
        "integers"
      ]
    },
    {
      "cell_type": "code",
      "execution_count": null,
      "id": "253123b1-7ee5-4086-8992-aefd666190e1",
      "metadata": {
        "id": "253123b1-7ee5-4086-8992-aefd666190e1"
      },
      "outputs": [],
      "source": [
        ">>\n",
        "array([ 0,  4, 99,  6, 22, 19,  7, 12,  8, 21])"
      ]
    },
    {
      "cell_type": "code",
      "execution_count": null,
      "id": "744ea888-8995-40a3-ae47-0da7198fae40",
      "metadata": {
        "id": "744ea888-8995-40a3-ae47-0da7198fae40"
      },
      "outputs": [],
      "source": [
        "# assign new values to the last two elements\n",
        "integers[-2:] = [-23, -46]\n",
        "\n",
        "integers"
      ]
    },
    {
      "cell_type": "code",
      "execution_count": null,
      "id": "2f82a16a-1d95-4db8-8553-c9525a47f541",
      "metadata": {
        "id": "2f82a16a-1d95-4db8-8553-c9525a47f541"
      },
      "outputs": [],
      "source": [
        ">>\n",
        "array([  0,   4,  99,   6,  22,  19,   7,  12, -23, -46])"
      ]
    },
    {
      "cell_type": "markdown",
      "id": "3f8e2dd0-7f62-4b93-9c5d-b4e212055947",
      "metadata": {
        "id": "3f8e2dd0-7f62-4b93-9c5d-b4e212055947"
      },
      "source": [
        "## nD arrays"
      ]
    },
    {
      "cell_type": "code",
      "execution_count": null,
      "id": "8ff46e47-2375-4848-a0c7-651833fe62a4",
      "metadata": {
        "id": "8ff46e47-2375-4848-a0c7-651833fe62a4"
      },
      "outputs": [],
      "source": [
        "# a 2D array\n",
        "twenty = (np.arange(4 * 5)).reshape(4, 5)\n",
        "twenty"
      ]
    },
    {
      "cell_type": "code",
      "execution_count": null,
      "id": "ba1f0c3f-3eb4-4929-9aed-a538b432e270",
      "metadata": {
        "id": "ba1f0c3f-3eb4-4929-9aed-a538b432e270"
      },
      "outputs": [],
      "source": [
        ">>\n",
        "array([[ 0,  1,  2,  3,  4],\n",
        "       [ 5,  6,  7,  8,  9],\n",
        "       [10, 11, 12, 13, 14],\n",
        "       [15, 16, 17, 18, 19]])"
      ]
    },
    {
      "cell_type": "code",
      "execution_count": null,
      "id": "2d01561d-b18f-4f3a-8a7f-cd9a7baa1c1b",
      "metadata": {
        "id": "2d01561d-b18f-4f3a-8a7f-cd9a7baa1c1b"
      },
      "outputs": [],
      "source": [
        "# slice first 2 rows and 3 columns\n",
        "twenty[:2, :3]"
      ]
    },
    {
      "cell_type": "code",
      "execution_count": null,
      "id": "51a1669f-cad8-483e-9019-8be2bd1896c7",
      "metadata": {
        "id": "51a1669f-cad8-483e-9019-8be2bd1896c7"
      },
      "outputs": [],
      "source": [
        ">>\n",
        "array([[0, 1, 2],\n",
        "       [5, 6, 7]])"
      ]
    },
    {
      "cell_type": "code",
      "execution_count": null,
      "id": "31d9bcd0-5a21-4d65-9c11-c9f579f299c5",
      "metadata": {
        "id": "31d9bcd0-5a21-4d65-9c11-c9f579f299c5"
      },
      "outputs": [],
      "source": [
        "# slice and get only the corner elements\n",
        "# three \"jumps\" along dimension 0\n",
        "# four \"jumps\" along dimension 1\n",
        "twenty[::3, ::4]"
      ]
    },
    {
      "cell_type": "code",
      "execution_count": null,
      "id": "bc6eaf92-ddb2-4d22-b572-e4ea1404ae66",
      "metadata": {
        "id": "bc6eaf92-ddb2-4d22-b572-e4ea1404ae66"
      },
      "outputs": [],
      "source": [
        ">>\n",
        "array([[ 0,  4],\n",
        "       [15, 19]])"
      ]
    },
    {
      "cell_type": "code",
      "execution_count": null,
      "id": "01b774c7-91a5-473e-afad-68f64f189aba",
      "metadata": {
        "id": "01b774c7-91a5-473e-afad-68f64f189aba"
      },
      "outputs": [],
      "source": [
        "# reversing the order of elements along columns (i.e. along dimension 0)\n",
        "twenty[::-1, ...]"
      ]
    },
    {
      "cell_type": "code",
      "execution_count": null,
      "id": "f8b71dbd-bc99-4e63-9b84-fdc655ad1003",
      "metadata": {
        "id": "f8b71dbd-bc99-4e63-9b84-fdc655ad1003"
      },
      "outputs": [],
      "source": [
        ">>\n",
        "array([[15, 16, 17, 18, 19],\n",
        "       [10, 11, 12, 13, 14],\n",
        "       [ 5,  6,  7,  8,  9],\n",
        "       [ 0,  1,  2,  3,  4]])"
      ]
    },
    {
      "cell_type": "code",
      "execution_count": null,
      "id": "759820f7-d9ec-4485-a87d-90f3931d22ad",
      "metadata": {
        "id": "759820f7-d9ec-4485-a87d-90f3931d22ad"
      },
      "outputs": [],
      "source": [
        "# reversing the order of elements along rows (i.e. along dimension 1)\n",
        "twenty[..., ::-1]"
      ]
    },
    {
      "cell_type": "code",
      "execution_count": null,
      "id": "bbb42464-bffe-43db-8615-9d7dc56ef001",
      "metadata": {
        "id": "bbb42464-bffe-43db-8615-9d7dc56ef001"
      },
      "outputs": [],
      "source": [
        ">>\n",
        "array([[ 4,  3,  2,  1,  0],\n",
        "       [ 9,  8,  7,  6,  5],\n",
        "       [14, 13, 12, 11, 10],\n",
        "       [19, 18, 17, 16, 15]])"
      ]
    },
    {
      "cell_type": "code",
      "execution_count": null,
      "id": "7788c07a-cd2b-4328-89b5-ff2335c9a75b",
      "metadata": {
        "id": "7788c07a-cd2b-4328-89b5-ff2335c9a75b"
      },
      "outputs": [],
      "source": [
        "# reversing the rows and columns (i.e. along both dimensions)\n",
        "twenty[::-1, ::-1]"
      ]
    },
    {
      "cell_type": "code",
      "execution_count": null,
      "id": "626da0e5-5f93-40b4-9419-7403b4578b40",
      "metadata": {
        "id": "626da0e5-5f93-40b4-9419-7403b4578b40"
      },
      "outputs": [],
      "source": [
        ">>\n",
        "array([[19, 18, 17, 16, 15],\n",
        "       [14, 13, 12, 11, 10],\n",
        "       [ 9,  8,  7,  6,  5],\n",
        "       [ 4,  3,  2,  1,  0]])"
      ]
    },
    {
      "cell_type": "code",
      "execution_count": null,
      "id": "d11365d6-ecc3-4243-83e9-87b9b6cfea95",
      "metadata": {
        "id": "d11365d6-ecc3-4243-83e9-87b9b6cfea95"
      },
      "outputs": [],
      "source": [
        "# or more intuitively\n",
        "np.flip(twenty, axis=(0, 1))\n",
        "\n",
        "# or equivalently\n",
        "np.flipud(np.fliplr(twenty))\n",
        "np.fliplr(np.flipud(twenty))"
      ]
    },
    {
      "cell_type": "code",
      "execution_count": null,
      "id": "d7644f19-c3bb-4778-bfe1-9efc2cc05358",
      "metadata": {
        "id": "d7644f19-c3bb-4778-bfe1-9efc2cc05358"
      },
      "outputs": [],
      "source": [
        ">>\n",
        "array([[19, 18, 17, 16, 15],\n",
        "       [14, 13, 12, 11, 10],\n",
        "       [ 9,  8,  7,  6,  5],\n",
        "       [ 4,  3,  2,  1,  0]])"
      ]
    },
    {
      "cell_type": "markdown",
      "id": "eb9780a9-61cb-4dcd-ac68-e4accdbbc696",
      "metadata": {
        "id": "eb9780a9-61cb-4dcd-ac68-e4accdbbc696"
      },
      "source": [
        "## Fancy indexing\n",
        "\n",
        "Fancy indexing is the name for when an array or a list is used in-place of an index:"
      ]
    },
    {
      "cell_type": "code",
      "execution_count": null,
      "id": "6708517a-c641-4ea0-abf1-87aacc5dff08",
      "metadata": {
        "id": "6708517a-c641-4ea0-abf1-87aacc5dff08"
      },
      "outputs": [],
      "source": [
        "# a 2D array\n",
        "twenty"
      ]
    },
    {
      "cell_type": "code",
      "execution_count": null,
      "id": "052890b5-b5e0-45f8-9fb4-1679e702c6a7",
      "metadata": {
        "id": "052890b5-b5e0-45f8-9fb4-1679e702c6a7"
      },
      "outputs": [],
      "source": [
        ">>\n",
        "array([[ 0,  1,  2,  3,  4],\n",
        "       [ 5,  6,  7,  8,  9],\n",
        "       [10, 11, 12, 13, 14],\n",
        "       [15, 16, 17, 18, 19]])"
      ]
    },
    {
      "cell_type": "code",
      "execution_count": null,
      "id": "ccf90168-5fff-44ed-884b-ae53dc09e8cb",
      "metadata": {
        "id": "ccf90168-5fff-44ed-884b-ae53dc09e8cb"
      },
      "outputs": [],
      "source": [
        "# get 2nd, 3rd, and 4th rows\n",
        "row_indices = [1, 2, 3]\n",
        "twenty[row_indices]"
      ]
    },
    {
      "cell_type": "code",
      "execution_count": null,
      "id": "6f7da440-fb94-40e4-960a-71a7583f6f49",
      "metadata": {
        "id": "6f7da440-fb94-40e4-960a-71a7583f6f49"
      },
      "outputs": [],
      "source": [
        ">>\n",
        "array([[ 5,  6,  7,  8,  9],\n",
        "       [10, 11, 12, 13, 14],\n",
        "       [15, 16, 17, 18, 19]])"
      ]
    },
    {
      "cell_type": "code",
      "execution_count": null,
      "id": "0577c090-3cda-4b6e-82fe-390d9697a61a",
      "metadata": {
        "id": "0577c090-3cda-4b6e-82fe-390d9697a61a"
      },
      "outputs": [],
      "source": [
        "col_indices = [1, 2, -1] # remember, index -1 means the last element\n",
        "twenty[row_indices, col_indices]"
      ]
    },
    {
      "cell_type": "code",
      "execution_count": null,
      "id": "abed63e4-d7f6-48fa-a87a-6ff47ed897be",
      "metadata": {
        "id": "abed63e4-d7f6-48fa-a87a-6ff47ed897be"
      },
      "outputs": [],
      "source": [
        ">>\n",
        "array([ 6, 12, 19])"
      ]
    },
    {
      "cell_type": "markdown",
      "id": "2a6e8bb1-e9ea-4ceb-ab7a-03b337920bdf",
      "metadata": {
        "id": "2a6e8bb1-e9ea-4ceb-ab7a-03b337920bdf"
      },
      "source": [
        "We can also use index masks: If the index mask is a NumPy array of data type bool, then an element is selected (True) or not (False) depending on the value of the index mask at the position of each element"
      ]
    },
    {
      "cell_type": "code",
      "execution_count": null,
      "id": "1f86736a-f02f-419e-a205-0431b97de9a4",
      "metadata": {
        "id": "1f86736a-f02f-419e-a205-0431b97de9a4"
      },
      "outputs": [],
      "source": [
        "# 1D array\n",
        "integers"
      ]
    },
    {
      "cell_type": "code",
      "execution_count": null,
      "id": "03109e08-21c7-4cf1-aaf1-c7436d2e870d",
      "metadata": {
        "id": "03109e08-21c7-4cf1-aaf1-c7436d2e870d"
      },
      "outputs": [],
      "source": [
        ">>\n",
        "array([  0,   4,  99,   6,  22,  19,   7,  12, -23, -46])"
      ]
    },
    {
      "cell_type": "code",
      "execution_count": null,
      "id": "7b233f6f-ef6a-4212-b760-97ae6dc82049",
      "metadata": {
        "id": "7b233f6f-ef6a-4212-b760-97ae6dc82049"
      },
      "outputs": [],
      "source": [
        "# mask has to be of the same shape as the array to be indexed; else IndexError would be thrown\n",
        "# mask for indexing alternate elements in the array\n",
        "row_mask = np.array([True, False, True, False, True, False, True, False, True, False])\n",
        "\n",
        "integers[row_mask]"
      ]
    },
    {
      "cell_type": "code",
      "execution_count": null,
      "id": "a117f9c3-ff62-4868-902c-41cc5b1b0906",
      "metadata": {
        "id": "a117f9c3-ff62-4868-902c-41cc5b1b0906"
      },
      "outputs": [],
      "source": [
        ">>array([  0,  99,  22,   7, -23])"
      ]
    },
    {
      "cell_type": "code",
      "execution_count": null,
      "id": "e29269d4-e7dd-40d3-af9a-7da3022b7eac",
      "metadata": {
        "id": "e29269d4-e7dd-40d3-af9a-7da3022b7eac"
      },
      "outputs": [],
      "source": [
        "# alternatively\n",
        "row_mask = np.array([1, 0, 1, 0, 1, 0, 1, 0, 1, 0], dtype=np.bool)\n",
        "\n",
        "integers[row_mask]"
      ]
    },
    {
      "cell_type": "code",
      "execution_count": null,
      "id": "b7140829-a922-4abe-9f18-4fcebfadf808",
      "metadata": {
        "id": "b7140829-a922-4abe-9f18-4fcebfadf808"
      },
      "outputs": [],
      "source": [
        ">>\n",
        "array([  0,  99,  22,   7, -23])"
      ]
    },
    {
      "cell_type": "markdown",
      "id": "65793840-dd11-4dc5-9a67-b6ee9f56c0b6",
      "metadata": {
        "id": "65793840-dd11-4dc5-9a67-b6ee9f56c0b6"
      },
      "source": [
        "This feature is very useful to conditionally select elements from an array, using for example comparison operators:"
      ]
    },
    {
      "cell_type": "code",
      "execution_count": null,
      "id": "65b4cd4f-c7d6-42be-9479-1634dc554271",
      "metadata": {
        "id": "65b4cd4f-c7d6-42be-9479-1634dc554271"
      },
      "outputs": [],
      "source": [
        "range_arr = np.arange(0, 10, 0.5)\n",
        "range_arr"
      ]
    },
    {
      "cell_type": "code",
      "execution_count": null,
      "id": "87969165-0b4c-4888-9154-606390990fbe",
      "metadata": {
        "id": "87969165-0b4c-4888-9154-606390990fbe"
      },
      "outputs": [],
      "source": [
        ">>\n",
        "array([0. , 0.5, 1. , 1.5, 2. , 2.5, 3. , 3.5, 4. , 4.5, 5. , 5.5, 6. ,\n",
        "       6.5, 7. , 7.5, 8. , 8.5, 9. , 9.5])"
      ]
    },
    {
      "cell_type": "code",
      "execution_count": null,
      "id": "6d65f331-71c6-4094-bf72-a966fb48de97",
      "metadata": {
        "id": "6d65f331-71c6-4094-bf72-a966fb48de97"
      },
      "outputs": [],
      "source": [
        "mask = (range_arr > 5) * (range_arr < 7.5)\n",
        "mask"
      ]
    },
    {
      "cell_type": "code",
      "execution_count": null,
      "id": "6b0db422-a388-418c-9850-030c1645f447",
      "metadata": {
        "id": "6b0db422-a388-418c-9850-030c1645f447"
      },
      "outputs": [],
      "source": [
        ">>\n",
        "array([False, False, False, False, False, False, False, False, False,\n",
        "       False, False,  True,  True,  True,  True, False, False, False,\n",
        "       False, False])"
      ]
    },
    {
      "cell_type": "code",
      "execution_count": null,
      "id": "6e558db6-571f-4ac5-ac62-4d2658f74964",
      "metadata": {
        "id": "6e558db6-571f-4ac5-ac62-4d2658f74964"
      },
      "outputs": [],
      "source": [
        "range_arr[mask]"
      ]
    },
    {
      "cell_type": "code",
      "execution_count": null,
      "id": "b08e35ce-72d2-475a-9b1c-b6d1ccd3a5ef",
      "metadata": {
        "id": "b08e35ce-72d2-475a-9b1c-b6d1ccd3a5ef"
      },
      "outputs": [],
      "source": [
        ">>\n",
        "array([5.5, 6. , 6.5, 7. ])"
      ]
    },
    {
      "cell_type": "code",
      "execution_count": null,
      "id": "c07b18e2-6c36-498f-b635-f9d85b5e7eb4",
      "metadata": {
        "id": "c07b18e2-6c36-498f-b635-f9d85b5e7eb4"
      },
      "outputs": [],
      "source": [
        "# or equivalently\n",
        "\n",
        "mask = (5 < range_arr) & (range_arr < 7.5)\n",
        "range_arr[mask]"
      ]
    },
    {
      "cell_type": "code",
      "execution_count": null,
      "id": "e5760e18-ba5a-427e-9931-866d2a54c958",
      "metadata": {
        "id": "e5760e18-ba5a-427e-9931-866d2a54c958"
      },
      "outputs": [],
      "source": [
        ">>\n",
        "array([5.5, 6. , 6.5, 7. ])"
      ]
    },
    {
      "cell_type": "markdown",
      "id": "bcd05417-278a-4148-89a2-1e4b084bf4f2",
      "metadata": {
        "id": "bcd05417-278a-4148-89a2-1e4b084bf4f2"
      },
      "source": [
        "## Linear operations\n",
        "\n",
        "Vectorizing the code is key to writing efficient numerical calculation with Python/NumPy. This means that, as much as possible, a program should be formulated in terms of matrix and vector operations, like matrix-matrix multiplication."
      ]
    },
    {
      "cell_type": "markdown",
      "id": "4225e089-b71b-4454-be04-a75bc9b4fe91",
      "metadata": {
        "id": "4225e089-b71b-4454-be04-a75bc9b4fe91"
      },
      "source": [
        "### Scalar-array operations\n",
        "\n",
        "We can use the usual arithmetic operators to multiply, add, subtract, and divide arrays with scalar numbers."
      ]
    },
    {
      "cell_type": "code",
      "execution_count": null,
      "id": "5a1cf6d8-fa9f-488a-9f47-c6d1b7eec8ba",
      "metadata": {
        "id": "5a1cf6d8-fa9f-488a-9f47-c6d1b7eec8ba"
      },
      "outputs": [],
      "source": [
        "vec = np.arange(0, 5)\n",
        "\n",
        "vec"
      ]
    },
    {
      "cell_type": "code",
      "execution_count": null,
      "id": "8df95ddf-08db-4434-af3d-c24150a65a6a",
      "metadata": {
        "id": "8df95ddf-08db-4434-af3d-c24150a65a6a"
      },
      "outputs": [],
      "source": [
        ">>\n",
        "array([0, 1, 2, 3, 4])"
      ]
    },
    {
      "cell_type": "code",
      "execution_count": null,
      "id": "4d68a4a1-6fc9-4d93-9a37-ffcdd0f70c19",
      "metadata": {
        "id": "4d68a4a1-6fc9-4d93-9a37-ffcdd0f70c19"
      },
      "outputs": [],
      "source": [
        "# note that original `vec` still remains unaffected since we haven't assigned the new array to it.\n",
        "vec * 2"
      ]
    },
    {
      "cell_type": "code",
      "execution_count": null,
      "id": "4e277819-60f8-4981-b005-14891ef2ccaa",
      "metadata": {
        "id": "4e277819-60f8-4981-b005-14891ef2ccaa"
      },
      "outputs": [],
      "source": [
        ">>\n",
        "array([0, 2, 4, 6, 8])"
      ]
    },
    {
      "cell_type": "code",
      "execution_count": null,
      "id": "3a68a3c6-527c-4d46-b93b-109479239d4b",
      "metadata": {
        "id": "3a68a3c6-527c-4d46-b93b-109479239d4b"
      },
      "outputs": [],
      "source": [
        "vec + 2"
      ]
    },
    {
      "cell_type": "code",
      "execution_count": null,
      "id": "09e50d06-b658-4b00-9499-b108aa472c16",
      "metadata": {
        "id": "09e50d06-b658-4b00-9499-b108aa472c16"
      },
      "outputs": [],
      "source": [
        ">>\n",
        "array([2, 3, 4, 5, 6])"
      ]
    },
    {
      "cell_type": "markdown",
      "id": "de4b252b-c9ce-47d0-a1aa-0a96a82de110",
      "metadata": {
        "id": "de4b252b-c9ce-47d0-a1aa-0a96a82de110"
      },
      "source": [
        "### Element-wise array-array operations\n",
        "\n",
        "When we add, subtract, multiply, and divide arrays with each other, the default behaviour is element-wise operations:"
      ]
    },
    {
      "cell_type": "code",
      "execution_count": null,
      "id": "cfdc5bf9-ee1e-41da-a426-f40b6af8de74",
      "metadata": {
        "id": "cfdc5bf9-ee1e-41da-a426-f40b6af8de74"
      },
      "outputs": [],
      "source": [
        "arr = np.arange(4 * 5).reshape(4, 5)\n",
        "arr"
      ]
    },
    {
      "cell_type": "code",
      "execution_count": null,
      "id": "4885fa95-e1c9-43bb-99ea-38066b85d1b7",
      "metadata": {
        "id": "4885fa95-e1c9-43bb-99ea-38066b85d1b7"
      },
      "outputs": [],
      "source": [
        ">>\n",
        "array([[ 0,  1,  2,  3,  4],\n",
        "       [ 5,  6,  7,  8,  9],\n",
        "       [10, 11, 12, 13, 14],\n",
        "       [15, 16, 17, 18, 19]])"
      ]
    },
    {
      "cell_type": "code",
      "execution_count": null,
      "id": "0425dbac-06a6-4259-9605-179037eceb47",
      "metadata": {
        "id": "0425dbac-06a6-4259-9605-179037eceb47"
      },
      "outputs": [],
      "source": [
        "np.matmul(arr, (arr.T))\n"
      ]
    },
    {
      "cell_type": "code",
      "execution_count": null,
      "id": "e7da3dbf-ea48-4e4e-8c38-5195de21b6a4",
      "metadata": {
        "id": "e7da3dbf-ea48-4e4e-8c38-5195de21b6a4"
      },
      "outputs": [],
      "source": [
        ">>\n",
        "array([[  30,   80,  130,  180],\n",
        "       [  80,  255,  430,  605],\n",
        "       [ 130,  430,  730, 1030],\n",
        "       [ 180,  605, 1030, 1455]])"
      ]
    },
    {
      "cell_type": "code",
      "execution_count": null,
      "id": "39224c34-e0ba-4b68-95ce-c06304b5d765",
      "metadata": {
        "id": "39224c34-e0ba-4b68-95ce-c06304b5d765"
      },
      "outputs": [],
      "source": [
        "print(vec.shape, arr.shape)\n",
        "\n",
        "# shape has to match\n",
        "vec * arr"
      ]
    },
    {
      "cell_type": "code",
      "execution_count": null,
      "id": "f1170667-fc7a-4aed-bf7a-5421fc3c09bb",
      "metadata": {
        "id": "f1170667-fc7a-4aed-bf7a-5421fc3c09bb"
      },
      "outputs": [],
      "source": [
        ">>\n",
        "array([[ 0,  1,  4,  9, 16],\n",
        "       [ 0,  6, 14, 24, 36],\n",
        "       [ 0, 11, 24, 39, 56],\n",
        "       [ 0, 16, 34, 54, 76]])"
      ]
    },
    {
      "cell_type": "code",
      "execution_count": null,
      "id": "3154e310-e6c4-48d6-9a0f-029288c2b3fd",
      "metadata": {
        "colab": {
          "base_uri": "https://localhost:8080/",
          "height": 182
        },
        "id": "3154e310-e6c4-48d6-9a0f-029288c2b3fd",
        "outputId": "3d2e95cc-0a59-49a4-bc35-7d42a5adc4ac"
      },
      "outputs": [
        {
          "output_type": "error",
          "ename": "NameError",
          "evalue": "name 'vec' is not defined",
          "traceback": [
            "\u001b[0;31m---------------------------------------------------------------------------\u001b[0m",
            "\u001b[0;31mNameError\u001b[0m                                 Traceback (most recent call last)",
            "\u001b[0;32m<ipython-input-26-ea24296fd5a0>\u001b[0m in \u001b[0;36m<cell line: 4>\u001b[0;34m()\u001b[0m\n\u001b[1;32m      2\u001b[0m \u001b[0;31m#print(vec[:, None].shape)\u001b[0m\u001b[0;34m\u001b[0m\u001b[0;34m\u001b[0m\u001b[0m\n\u001b[1;32m      3\u001b[0m \u001b[0;34m\u001b[0m\u001b[0m\n\u001b[0;32m----> 4\u001b[0;31m \u001b[0mvec\u001b[0m\u001b[0;34m[\u001b[0m\u001b[0;34m:\u001b[0m\u001b[0;34m,\u001b[0m \u001b[0;32mNone\u001b[0m\u001b[0;34m]\u001b[0m \u001b[0;34m*\u001b[0m \u001b[0marr\u001b[0m\u001b[0;34m\u001b[0m\u001b[0;34m\u001b[0m\u001b[0m\n\u001b[0m",
            "\u001b[0;31mNameError\u001b[0m: name 'vec' is not defined"
          ]
        }
      ],
      "source": [
        "# else no broadcasting will happen and an error is thrown\n",
        "#print(vec[:, None].shape)\n",
        "\n",
        "vec[:, None] * arr"
      ]
    },
    {
      "cell_type": "code",
      "execution_count": null,
      "id": "5baa78d0-bb47-449f-b878-8d90996b05a0",
      "metadata": {
        "colab": {
          "base_uri": "https://localhost:8080/",
          "height": 164
        },
        "id": "5baa78d0-bb47-449f-b878-8d90996b05a0",
        "outputId": "ea89bd80-a4ba-4d19-833c-1061fe62a229"
      },
      "outputs": [
        {
          "output_type": "error",
          "ename": "NameError",
          "evalue": "name 'vec' is not defined",
          "traceback": [
            "\u001b[0;31m---------------------------------------------------------------------------\u001b[0m",
            "\u001b[0;31mNameError\u001b[0m                                 Traceback (most recent call last)",
            "\u001b[0;32m<ipython-input-27-696803977fd0>\u001b[0m in \u001b[0;36m<cell line: 2>\u001b[0;34m()\u001b[0m\n\u001b[1;32m      1\u001b[0m \u001b[0;31m# however, this would work\u001b[0m\u001b[0;34m\u001b[0m\u001b[0;34m\u001b[0m\u001b[0m\n\u001b[0;32m----> 2\u001b[0;31m \u001b[0mvec\u001b[0m\u001b[0;34m[\u001b[0m\u001b[0;34m:\u001b[0m\u001b[0;36m4\u001b[0m\u001b[0;34m,\u001b[0m \u001b[0;32mNone\u001b[0m\u001b[0;34m]\u001b[0m \u001b[0;34m*\u001b[0m \u001b[0marr\u001b[0m\u001b[0;34m\u001b[0m\u001b[0;34m\u001b[0m\u001b[0m\n\u001b[0m",
            "\u001b[0;31mNameError\u001b[0m: name 'vec' is not defined"
          ]
        }
      ],
      "source": [
        "# however, this would work\n",
        "vec[:4, None] * arr"
      ]
    },
    {
      "cell_type": "code",
      "execution_count": null,
      "id": "c54a6323-c9c3-4885-8a66-4bd7519c95ed",
      "metadata": {
        "id": "c54a6323-c9c3-4885-8a66-4bd7519c95ed"
      },
      "outputs": [],
      "source": [
        ">>\n",
        "array([[ 0,  0,  0,  0,  0],\n",
        "       [ 5,  6,  7,  8,  9],\n",
        "       [20, 22, 24, 26, 28],\n",
        "       [45, 48, 51, 54, 57]])"
      ]
    },
    {
      "cell_type": "markdown",
      "id": "6968b026-d85d-4bba-99e0-c11b2176d6fc",
      "metadata": {
        "id": "6968b026-d85d-4bba-99e0-c11b2176d6fc"
      },
      "source": [
        "## Matrix operations\n",
        "\n",
        "What about the glorified matrix mutiplication? There are two ways. We can either use the dot function, which applies a matrix-matrix, matrix-vector, or inner vector multiplication to its two arguments. Or you can use the @ operator in Python 3"
      ]
    },
    {
      "cell_type": "code",
      "execution_count": null,
      "id": "fddc0730-bef5-4e9a-9575-be40db32f0e3",
      "metadata": {
        "id": "fddc0730-bef5-4e9a-9575-be40db32f0e3"
      },
      "outputs": [],
      "source": [
        "# matrix-matrix product\n",
        "print(arr.T.shape, arr.shape)\n",
        "np.dot(arr.T, arr)"
      ]
    },
    {
      "cell_type": "code",
      "execution_count": null,
      "id": "8c6aeb56-b03c-4234-8220-90d69664bfa1",
      "metadata": {
        "id": "8c6aeb56-b03c-4234-8220-90d69664bfa1"
      },
      "outputs": [],
      "source": [
        ">>\n",
        "(5, 4) (4, 5)\n",
        "array([[350, 380, 410, 440, 470],\n",
        "       [380, 414, 448, 482, 516],\n",
        "       [410, 448, 486, 524, 562],\n",
        "       [440, 482, 524, 566, 608],\n",
        "       [470, 516, 562, 608, 654]])"
      ]
    },
    {
      "cell_type": "code",
      "execution_count": null,
      "id": "d4e98dcb-0866-4973-b108-a2aff2952156",
      "metadata": {
        "id": "d4e98dcb-0866-4973-b108-a2aff2952156"
      },
      "outputs": [],
      "source": [
        "# matrix-vector product\n",
        "print(\"shapes: \", arr.shape, vec.shape)\n",
        "np.dot(arr, vec)   # but not this: np.dot(vec, arr)"
      ]
    },
    {
      "cell_type": "code",
      "execution_count": null,
      "id": "1927fab2-c81c-4e64-b454-7ff34f07d2b5",
      "metadata": {
        "id": "1927fab2-c81c-4e64-b454-7ff34f07d2b5"
      },
      "outputs": [],
      "source": [
        ">>\n",
        "shapes:  (4, 5) (5,)\n",
        "array([ 30,  80, 130, 180])"
      ]
    },
    {
      "cell_type": "code",
      "execution_count": null,
      "id": "b8051b65-04e3-4025-8eeb-65a73d2e294b",
      "metadata": {
        "id": "b8051b65-04e3-4025-8eeb-65a73d2e294b"
      },
      "outputs": [],
      "source": [
        "col_vec = vec[:, None]\n",
        "print(\"shapes: \", (col_vec).T.shape, (col_vec).shape)\n",
        "\n",
        "# inner product\n",
        "(col_vec.T) @ (col_vec)"
      ]
    },
    {
      "cell_type": "code",
      "execution_count": null,
      "id": "f18facb9-5739-404a-ba58-258a8539615f",
      "metadata": {
        "id": "f18facb9-5739-404a-ba58-258a8539615f"
      },
      "outputs": [],
      "source": [
        ">>\n",
        "shapes:  (1, 5) (5, 1)\n",
        "array([[30]])"
      ]
    },
    {
      "cell_type": "markdown",
      "id": "1c8e8210-4329-4b9c-acd2-48c3b6534b9d",
      "metadata": {
        "id": "1c8e8210-4329-4b9c-acd2-48c3b6534b9d"
      },
      "source": [
        "### Stacking and repeating arrays\n",
        "\n",
        "Using function repeat, tile, vstack, hstack, and concatenate we can create larger vectors and matrices from smaller ones:"
      ]
    },
    {
      "cell_type": "code",
      "execution_count": null,
      "id": "39a30a15-bcd6-4a2d-8fd6-5ed20991f810",
      "metadata": {
        "id": "39a30a15-bcd6-4a2d-8fd6-5ed20991f810"
      },
      "outputs": [],
      "source": [
        "a = np.array([[1, 2], [3, 4]])\n",
        "a"
      ]
    },
    {
      "cell_type": "code",
      "execution_count": null,
      "id": "d6ecdc34-107f-4429-a69a-615747f9fab9",
      "metadata": {
        "id": "d6ecdc34-107f-4429-a69a-615747f9fab9"
      },
      "outputs": [],
      "source": [
        ">>\n",
        "array([[1, 2],\n",
        "       [3, 4]])"
      ]
    },
    {
      "cell_type": "code",
      "execution_count": null,
      "id": "b186fca3-b02b-477d-9753-ede0b399dd75",
      "metadata": {
        "id": "b186fca3-b02b-477d-9753-ede0b399dd75"
      },
      "outputs": [],
      "source": [
        "# repeat each element 3 times\n",
        "np.repeat(a, 3)"
      ]
    },
    {
      "cell_type": "code",
      "execution_count": null,
      "id": "b442c817-fd8e-440e-96ab-2b1910d6fa53",
      "metadata": {
        "id": "b442c817-fd8e-440e-96ab-2b1910d6fa53"
      },
      "outputs": [],
      "source": [
        ">>\n",
        "array([1, 1, 1, 2, 2, 2, 3, 3, 3, 4, 4, 4])"
      ]
    },
    {
      "cell_type": "code",
      "execution_count": null,
      "id": "26c4db60-dce7-4bcd-a77d-df5cf4fea066",
      "metadata": {
        "id": "26c4db60-dce7-4bcd-a77d-df5cf4fea066"
      },
      "outputs": [],
      "source": [
        "# tile the matrix 3 times\n",
        "np.tile(a, 3)"
      ]
    },
    {
      "cell_type": "code",
      "execution_count": null,
      "id": "ac15f84c-da16-4e76-a8cc-b6491f3c9308",
      "metadata": {
        "id": "ac15f84c-da16-4e76-a8cc-b6491f3c9308"
      },
      "outputs": [],
      "source": [
        ">>\n",
        "array([[1, 2, 1, 2, 1, 2],\n",
        "       [3, 4, 3, 4, 3, 4]])"
      ]
    },
    {
      "cell_type": "code",
      "execution_count": null,
      "id": "6b142069-7a58-42d3-b83c-0f15b6f41d22",
      "metadata": {
        "id": "6b142069-7a58-42d3-b83c-0f15b6f41d22"
      },
      "outputs": [],
      "source": [
        "b = np.array([[5, 6]])\n",
        "b"
      ]
    },
    {
      "cell_type": "code",
      "execution_count": null,
      "id": "7f37282c-c4f0-41e5-975f-28192771ea73",
      "metadata": {
        "id": "7f37282c-c4f0-41e5-975f-28192771ea73"
      },
      "outputs": [],
      "source": [
        ">>\n",
        "array([[5, 6]])"
      ]
    },
    {
      "cell_type": "code",
      "execution_count": null,
      "id": "50eee1ab-e764-4f35-800d-21373d6ebd4e",
      "metadata": {
        "id": "50eee1ab-e764-4f35-800d-21373d6ebd4e"
      },
      "outputs": [],
      "source": [
        "# concatenate a and b along axis 0\n",
        "np.concatenate((a, b), axis=0)"
      ]
    },
    {
      "cell_type": "code",
      "execution_count": null,
      "id": "b95db9f2-e465-47db-85ed-956041765622",
      "metadata": {
        "id": "b95db9f2-e465-47db-85ed-956041765622"
      },
      "outputs": [],
      "source": [
        ">>\n",
        "array([[1, 2],\n",
        "       [3, 4],\n",
        "       [5, 6]])"
      ]
    },
    {
      "cell_type": "code",
      "execution_count": null,
      "id": "fca9a6f6-f9a7-46c1-b82a-fa7be8a24385",
      "metadata": {
        "id": "fca9a6f6-f9a7-46c1-b82a-fa7be8a24385"
      },
      "outputs": [],
      "source": [
        "# concatenate a and b along axis 1\n",
        "np.concatenate((a, b.T), axis=1)"
      ]
    },
    {
      "cell_type": "code",
      "execution_count": null,
      "id": "60eeb85b-cb5c-4f1e-a248-cf3368096a86",
      "metadata": {
        "id": "60eeb85b-cb5c-4f1e-a248-cf3368096a86"
      },
      "outputs": [],
      "source": [
        ">>\n",
        "array([[1, 2, 5],\n",
        "       [3, 4, 6]])"
      ]
    },
    {
      "cell_type": "markdown",
      "id": "cf26a6a4-88af-4bdc-903b-bc1e47305cac",
      "metadata": {
        "id": "cf26a6a4-88af-4bdc-903b-bc1e47305cac"
      },
      "source": [
        "### hstack and vstack"
      ]
    },
    {
      "cell_type": "code",
      "execution_count": null,
      "id": "657b6f05-4028-4560-8b80-3e356ba0ef8d",
      "metadata": {
        "id": "657b6f05-4028-4560-8b80-3e356ba0ef8d"
      },
      "outputs": [],
      "source": [
        "np.vstack((a,b))"
      ]
    },
    {
      "cell_type": "code",
      "execution_count": null,
      "id": "2dbe47b1-56b2-432c-a790-49adebae8946",
      "metadata": {
        "id": "2dbe47b1-56b2-432c-a790-49adebae8946"
      },
      "outputs": [],
      "source": [
        ">>\n",
        "array([[1, 2],\n",
        "       [3, 4],\n",
        "       [5, 6]])"
      ]
    },
    {
      "cell_type": "code",
      "execution_count": null,
      "id": "264c5f1f-3db4-4b8c-a109-2a5069b6f3d5",
      "metadata": {
        "id": "264c5f1f-3db4-4b8c-a109-2a5069b6f3d5"
      },
      "outputs": [],
      "source": [
        "np.hstack((a,b.T))"
      ]
    },
    {
      "cell_type": "code",
      "execution_count": null,
      "id": "77a39567-4a9d-4dd5-a92b-66af082ac941",
      "metadata": {
        "id": "77a39567-4a9d-4dd5-a92b-66af082ac941"
      },
      "outputs": [],
      "source": [
        ">>\n",
        "array([[1, 2, 5],\n",
        "       [3, 4, 6]])"
      ]
    },
    {
      "cell_type": "markdown",
      "id": "620f8887-3f2e-4017-8624-7b133bcc2ed7",
      "metadata": {
        "id": "620f8887-3f2e-4017-8624-7b133bcc2ed7"
      },
      "source": [
        "## Copy and \"deep copy\"\n",
        "\n",
        "For performance reasons, assignments in Python usually do not copy the underlaying objects. This is important for example when objects are passed between functions, to avoid an excessive amount of memory copying when it is not necessary (technical term: pass by reference)."
      ]
    },
    {
      "cell_type": "code",
      "execution_count": null,
      "id": "8527086c-7fc4-493e-bdad-79c26ebcb52b",
      "metadata": {
        "id": "8527086c-7fc4-493e-bdad-79c26ebcb52b"
      },
      "outputs": [],
      "source": [
        "A = np.array([[1, 2], [3, 4]])\n",
        "\n",
        "A"
      ]
    },
    {
      "cell_type": "code",
      "execution_count": null,
      "id": "463c1838-63bf-4847-ba7a-425b6b0f47ab",
      "metadata": {
        "id": "463c1838-63bf-4847-ba7a-425b6b0f47ab"
      },
      "outputs": [],
      "source": [
        ">>\n",
        "array([[1, 2],\n",
        "       [3, 4]])"
      ]
    },
    {
      "cell_type": "code",
      "execution_count": null,
      "id": "a0109b7a-fb08-4008-9ae4-033b248b66cb",
      "metadata": {
        "id": "a0109b7a-fb08-4008-9ae4-033b248b66cb"
      },
      "outputs": [],
      "source": [
        "# now array B is referring to the same array data as A\n",
        "B = A\n",
        "B"
      ]
    },
    {
      "cell_type": "code",
      "execution_count": null,
      "id": "4a6b8696-bd56-49e0-8589-55aa292be577",
      "metadata": {
        "id": "4a6b8696-bd56-49e0-8589-55aa292be577"
      },
      "outputs": [],
      "source": [
        ">>\n",
        "array([[1, 2],\n",
        "       [3, 4]])"
      ]
    },
    {
      "cell_type": "code",
      "execution_count": null,
      "id": "e8b4afa1-872e-4f61-a03c-c0399b01f735",
      "metadata": {
        "id": "e8b4afa1-872e-4f61-a03c-c0399b01f735"
      },
      "outputs": [],
      "source": [
        "# changing B affects A\n",
        "B[0,0] = 10\n",
        "\n",
        "A"
      ]
    },
    {
      "cell_type": "code",
      "execution_count": null,
      "id": "a4a39131-805b-44a0-bcd8-d48289085a89",
      "metadata": {
        "id": "a4a39131-805b-44a0-bcd8-d48289085a89"
      },
      "outputs": [],
      "source": [
        ">>\n",
        "array([[10,  2],\n",
        "       [ 3,  4]])"
      ]
    },
    {
      "cell_type": "markdown",
      "id": "3edcbd82-99f3-4896-915f-d0b046f59491",
      "metadata": {
        "id": "3edcbd82-99f3-4896-915f-d0b046f59491"
      },
      "source": [
        "If we want to avoid such a behavior, so that when we get a new completely independent object B copied from A, then we need to do a so-called \"deep copy\" using the function copy:"
      ]
    },
    {
      "cell_type": "code",
      "execution_count": null,
      "id": "8efdf1d0-c0ee-458a-b440-40f3d98e8844",
      "metadata": {
        "id": "8efdf1d0-c0ee-458a-b440-40f3d98e8844"
      },
      "outputs": [],
      "source": [
        "B = np.copy(A)"
      ]
    },
    {
      "cell_type": "code",
      "execution_count": null,
      "id": "dece92ec-615f-4539-8b87-fdf5c526a705",
      "metadata": {
        "id": "dece92ec-615f-4539-8b87-fdf5c526a705"
      },
      "outputs": [],
      "source": [
        "# now, if we modify B, A is not affected\n",
        "B[0,0] = -5\n",
        "\n",
        "A"
      ]
    },
    {
      "cell_type": "code",
      "execution_count": null,
      "id": "305ab983-c3dc-4b63-80df-a8755ef30e67",
      "metadata": {
        "id": "305ab983-c3dc-4b63-80df-a8755ef30e67"
      },
      "outputs": [],
      "source": [
        ">>\n",
        "array([[10,  2],\n",
        "       [ 3,  4]])"
      ]
    },
    {
      "cell_type": "markdown",
      "id": "568f4961-f6b0-4d5a-ac78-46d821ebcea7",
      "metadata": {
        "id": "568f4961-f6b0-4d5a-ac78-46d821ebcea7"
      },
      "source": [
        "## Vectorizing functions\n",
        "\n",
        "As mentioned several times by now, to get good performance we should always try to avoid looping over elements in our vectors and matrices, and instead use vectorized algorithms. The first step in converting a scalar algorithm to a vectorized algorithm is to make sure that the functions we write work with vector inputs."
      ]
    },
    {
      "cell_type": "code",
      "execution_count": null,
      "id": "c50b2fd6-ed70-499a-94b0-611c72d6e776",
      "metadata": {
        "id": "c50b2fd6-ed70-499a-94b0-611c72d6e776"
      },
      "outputs": [],
      "source": [
        "def Theta(x):\n",
        "    \"\"\"\n",
        "    scalar implementation of the Heaviside step function.\n",
        "    \"\"\"\n",
        "    if x >= 0:\n",
        "        return 1\n",
        "    else:\n",
        "        return 0"
      ]
    },
    {
      "cell_type": "code",
      "execution_count": null,
      "id": "e012b540-858b-46ac-b6a3-9af8ee9a153e",
      "metadata": {
        "id": "e012b540-858b-46ac-b6a3-9af8ee9a153e"
      },
      "outputs": [],
      "source": [
        "v1 = np.array([-3,-2,-1,0,1,2,3])\n",
        "\n",
        "Theta(v1)"
      ]
    },
    {
      "cell_type": "code",
      "execution_count": null,
      "id": "6ff08aec-e9c1-4211-a1f7-76a9c14831f5",
      "metadata": {
        "id": "6ff08aec-e9c1-4211-a1f7-76a9c14831f5"
      },
      "outputs": [],
      "source": [
        "That didn't work because we didn't write the function Theta so that it can handle a vector input...\n",
        "\n",
        "To get a vectorized version of Theta we can use the Numpy function vectorize. In many cases it can automatically vectorize a function:"
      ]
    },
    {
      "cell_type": "code",
      "execution_count": null,
      "id": "af3e77ea-b2b4-46a9-827a-308977d509c1",
      "metadata": {
        "id": "af3e77ea-b2b4-46a9-827a-308977d509c1"
      },
      "outputs": [],
      "source": [
        "Theta_vec = np.vectorize(Theta)"
      ]
    },
    {
      "cell_type": "code",
      "execution_count": null,
      "id": "6f3fc9b1-0ca8-4735-aa6d-a3dd5368ee7f",
      "metadata": {
        "id": "6f3fc9b1-0ca8-4735-aa6d-a3dd5368ee7f"
      },
      "outputs": [],
      "source": [
        "Theta_vec(v1)"
      ]
    },
    {
      "cell_type": "code",
      "execution_count": null,
      "id": "53a0e019-5753-450d-825f-08ce9214b0c1",
      "metadata": {
        "id": "53a0e019-5753-450d-825f-08ce9214b0c1"
      },
      "outputs": [],
      "source": [
        ">>\n",
        "array([0, 0, 0, 1, 1, 1, 1])"
      ]
    },
    {
      "cell_type": "code",
      "execution_count": null,
      "id": "4e5b2ac3-a50d-4701-9838-215cc0878bf3",
      "metadata": {
        "id": "4e5b2ac3-a50d-4701-9838-215cc0878bf3"
      },
      "outputs": [],
      "source": [
        "we can also implement the function to accept a vector input from the beginning (requires more effort but might give better performance):"
      ]
    },
    {
      "cell_type": "code",
      "execution_count": null,
      "id": "2a7b4dab-3c86-4c69-aa7d-2565c8703c12",
      "metadata": {
        "id": "2a7b4dab-3c86-4c69-aa7d-2565c8703c12"
      },
      "outputs": [],
      "source": [
        "def Theta(x):\n",
        "    \"\"\"\n",
        "    Vector-aware implementation of the Heaviside step function.\n",
        "    \"\"\"\n",
        "    return 1 * (x >= 0)"
      ]
    },
    {
      "cell_type": "code",
      "execution_count": null,
      "id": "f8616cc9-d56c-4f49-afe5-3b7caf44b575",
      "metadata": {
        "id": "f8616cc9-d56c-4f49-afe5-3b7caf44b575"
      },
      "outputs": [],
      "source": [
        "Theta(v1)"
      ]
    },
    {
      "cell_type": "code",
      "execution_count": null,
      "id": "f50f70b7-75aa-4ec6-83d5-1e678707e234",
      "metadata": {
        "id": "f50f70b7-75aa-4ec6-83d5-1e678707e234"
      },
      "outputs": [],
      "source": [
        ">>\n",
        "array([0, 0, 0, 1, 1, 1, 1])"
      ]
    },
    {
      "cell_type": "code",
      "execution_count": null,
      "id": "8e4fde30-0133-460d-95be-8dad2f399743",
      "metadata": {
        "id": "8e4fde30-0133-460d-95be-8dad2f399743"
      },
      "outputs": [],
      "source": [
        "# it even works with scalar input\n",
        "Theta(-1.2), Theta(2.6)"
      ]
    },
    {
      "cell_type": "code",
      "execution_count": null,
      "id": "4c7f5f48-4192-4292-b8cf-33125ba44e41",
      "metadata": {
        "id": "4c7f5f48-4192-4292-b8cf-33125ba44e41"
      },
      "outputs": [],
      "source": [
        ">>\n",
        "(0, 1)"
      ]
    },
    {
      "cell_type": "markdown",
      "id": "47fb7b27-2f0c-4a1e-846d-e7bb5aa63b73",
      "metadata": {
        "id": "47fb7b27-2f0c-4a1e-846d-e7bb5aa63b73"
      },
      "source": [
        "## Exercices"
      ]
    },
    {
      "cell_type": "markdown",
      "id": "ee713ca6-fd21-425c-9191-9889a5633114",
      "metadata": {
        "id": "ee713ca6-fd21-425c-9191-9889a5633114"
      },
      "source": [
        "### Exercise 1: Creating and Manipulating NumPy Arrays\n",
        "\n",
        "- Create a 1D NumPy array from the list [5, 10, 15, 20, 25]. Convert the array to type float64 and print it.\n",
        "\n",
        "- Create a 2D NumPy array from the nested list [[1, 2, 3], [4, 5, 6], [7, 8, 9]]. Print the shape and size of the array.\n",
        "\n",
        "- Create a 3D NumPy array with random values of shape (2, 3, 4). Print the number of dimensions and the shape of the array."
      ]
    },
    {
      "cell_type": "code",
      "source": [
        "###1D\n",
        "lst = [5,10,15,20,25]\n",
        "n= np.array(lst, dtype=np.float32)\n",
        "print(n)\n",
        "\n",
        "# a 2D array\n",
        "list_of_lists = [[1, 2,3], [4, 5,6],[7,8,9]]\n",
        "M = np.array(list_of_lists)\n",
        "print(M)\n",
        "print(\"Shape:\", M.shape)\n",
        "print(\"Size:\", M.size)\n",
        "\n",
        "# a 3D array\n",
        "# a random array where the values come from a standard Normal distribution\n",
        "gaussian = np.random.randn(2 * 3 * 4)\n",
        "gaussian = gaussian.reshape(2, 3, 4)\n",
        "gaussian\n",
        "\n",
        "\n",
        "\n",
        "\n",
        "\n",
        "\n",
        "\n"
      ],
      "metadata": {
        "colab": {
          "base_uri": "https://localhost:8080/"
        },
        "id": "mPklME9SQsbi",
        "outputId": "0d06b5a5-818e-4752-c5ff-ddc7a6c936c9"
      },
      "id": "mPklME9SQsbi",
      "execution_count": 96,
      "outputs": [
        {
          "output_type": "stream",
          "name": "stdout",
          "text": [
            "[ 5. 10. 15. 20. 25.]\n",
            "[[1 2 3]\n",
            " [4 5 6]\n",
            " [7 8 9]]\n",
            "Shape: (3, 3)\n",
            "Size: 9\n"
          ]
        },
        {
          "output_type": "execute_result",
          "data": {
            "text/plain": [
              "array([[[ 0.4450468 , -0.5486299 ,  0.41509498,  0.29165314],\n",
              "        [-0.90052868, -1.05519341, -0.68108697, -0.4459737 ],\n",
              "        [ 1.09796587,  1.51232978,  0.27649001,  0.05113963]],\n",
              "\n",
              "       [[-1.05554637, -1.02855825,  0.27800367, -0.212269  ],\n",
              "        [-0.28354511, -1.6381095 , -0.27314091, -0.73894663],\n",
              "        [-0.72522495,  2.10129245, -2.85671021, -0.46101379]]])"
            ]
          },
          "metadata": {},
          "execution_count": 96
        }
      ]
    },
    {
      "cell_type": "markdown",
      "id": "4783555d-abea-40b5-8e42-bf9619a2875d",
      "metadata": {
        "id": "4783555d-abea-40b5-8e42-bf9619a2875d"
      },
      "source": [
        "### Exercise 1: Creating and Manipulating NumPy Arrays\n",
        "\n",
        "- Create a 1D NumPy array from the list [5, 10, 15, 20, 25]. Convert the array to type float64 and print it.\n",
        "\n",
        "- Create a 2D NumPy array from the nested list [[1, 2, 3], [4, 5, 6], [7, 8, 9]]. Print the shape and size of the array.\n",
        "\n",
        "- Create a 3D NumPy array with random values of shape (2, 3, 4). Print the number of dimensions and the shape of the array."
      ]
    },
    {
      "cell_type": "markdown",
      "id": "3d4dbc34-57e5-434d-a98f-55fe6f1493e6",
      "metadata": {
        "id": "3d4dbc34-57e5-434d-a98f-55fe6f1493e6"
      },
      "source": [
        "### Exercise 3: Advanced Array Manipulations\n",
        "\n",
        "- Create a 1D NumPy array with the numbers from 0 to 9. Reverse the array and print it.\n",
        "\n",
        "- Create a 2D NumPy array with the numbers from 0 to 11, arranged in a 3x4 shape. Extract a subarray consisting of the first two rows and the last two columns, and print it.\n",
        "\n",
        "- Create a 2D NumPy array of shape (5, 5) with random integers between 0 and 10. Replace all elements greater than 5 with 0 and print the modified array."
      ]
    },
    {
      "cell_type": "code",
      "source": [
        "num_samples = 10\n",
        "integers = np.arange(num_samples)\n",
        "integers[::-1]\n",
        "\n",
        "\n",
        "###list_of_lists = [[1, 2,3], [4, 5,6],[7,8,9]]\n",
        "\n",
        "twenty = (np.arange(3 * 4)).reshape(3, 4)\n",
        "print(twenty[0:1, 1:3])\n",
        "print(twenty[2:4, 1:3])\n",
        "\n",
        "\n",
        "num_samples = 10\n",
        "integers = np.random.randint(10, size=num_samples)\n",
        "integers\n",
        "integers[integers > 5] = 0\n",
        "integers\n",
        "\n",
        "\n"
      ],
      "metadata": {
        "colab": {
          "base_uri": "https://localhost:8080/"
        },
        "id": "zN3rH2FxUWb-",
        "outputId": "0ad86f70-619b-45fb-d963-7c2e751ef433"
      },
      "id": "zN3rH2FxUWb-",
      "execution_count": null,
      "outputs": [
        {
          "output_type": "execute_result",
          "data": {
            "text/plain": [
              "array([0, 1, 1, 0, 0, 5, 0, 4, 0, 0])"
            ]
          },
          "metadata": {},
          "execution_count": 90
        }
      ]
    },
    {
      "cell_type": "markdown",
      "id": "e7c86dd4-03fb-44d7-a644-19f4c403a12e",
      "metadata": {
        "id": "e7c86dd4-03fb-44d7-a644-19f4c403a12e"
      },
      "source": [
        "### Exercise 4: Array Initialization and Attributes\n",
        "\n",
        "- Create a 3x3 identity matrix using NumPy and print its attributes: ndim, shape, size, itemsize, and nbytes.\n",
        "\n",
        "- Create an array of 10 evenly spaced numbers between 0 and 5 using numpy.linspace(). Print the array and its datatype.\n",
        "\n",
        "- Create a 3D array of shape (2, 3, 4) with random values from a standard normal distribution. Print the array and the sum of all elements."
      ]
    },
    {
      "cell_type": "code",
      "source": [
        "# twoD_arr = np.arange(1, 46).reshape(3, -1)\n",
        "# twoD_arr\n",
        "\n",
        "##1\n",
        "# # get number of dimensions of the array\n",
        "# twoD_arr.ndim\n",
        "# print(\"total dimensions of the array is: \", gaussian.ndim)\n",
        "\n",
        "# # get the shape of the array\n",
        "# twoD_arr.shape\n",
        "# print(\"the shape of the array is: \", gaussian.shape)\n",
        "\n",
        "# # get the total number of elements in the array\n",
        "# twoD_arr.size\n",
        "# print(\"total number of items is: \", gaussian.size)\n",
        "\n",
        "# # get memory consumed by each item in the array\n",
        "# twoD_arr.itemsize\n",
        "# print(\"memory consumed by each item is: \", gaussian.itemsize)\n",
        "\n",
        "# # get memory consumed by the array\n",
        "# twoD_arr.nbytes\n",
        "# print(\"total memory consumed by the whole array is: \", gaussian.nbytes)\n",
        "\n",
        "\n",
        "##2\n",
        "##np.linspace(0, 5)\n",
        "\n",
        "3#\n",
        "\n",
        "# a 3D array\n",
        "# a random array where the values come from a standard Normal distribution\n",
        "gaussian = np.random.randn(2 * 3 * 4)\n",
        "gaussian = gaussian.reshape(2, 3, 4)\n",
        "gaussian\n",
        "\n",
        "\n"
      ],
      "metadata": {
        "colab": {
          "base_uri": "https://localhost:8080/"
        },
        "id": "NzVrIOPKaMfF",
        "outputId": "8335b09b-d845-4f08-d378-fa2c8f34bccf"
      },
      "id": "NzVrIOPKaMfF",
      "execution_count": null,
      "outputs": [
        {
          "output_type": "execute_result",
          "data": {
            "text/plain": [
              "array([[[ 0.32836757,  0.52481341, -0.52552512, -0.79509851],\n",
              "        [ 0.99870678,  1.6939971 ,  1.10441593, -0.46259626],\n",
              "        [-0.42986927,  1.00204772, -0.94310937,  1.07202746]],\n",
              "\n",
              "       [[ 0.14086015, -1.06886211, -0.63963686,  1.40290685],\n",
              "        [-0.61437469,  0.48006005, -0.09971285, -0.76539456],\n",
              "        [-0.87140674, -0.36486531, -0.49653803, -2.26238233]]])"
            ]
          },
          "metadata": {},
          "execution_count": 95
        }
      ]
    },
    {
      "cell_type": "markdown",
      "id": "151fdc58-1d73-46e0-968f-96fde104fb2e",
      "metadata": {
        "id": "151fdc58-1d73-46e0-968f-96fde104fb2e"
      },
      "source": [
        "### Exercise 4: Array Initialization and Attributes\n",
        "\n",
        "- Create a 3x3 identity matrix using NumPy and print its attributes: ndim, shape, size, itemsize, and nbytes.\n",
        "\n",
        "- Create an array of 10 evenly spaced numbers between 0 and 5 using numpy.linspace(). Print the array and its datatype.\n",
        "\n",
        "- Create a 3D array of shape (2, 3, 4) with random values from a standard normal distribution. Print the array and the sum of all elements."
      ]
    },
    {
      "cell_type": "markdown",
      "id": "e27faf4f-15f8-4f8e-8633-a3a9f313ebe4",
      "metadata": {
        "id": "e27faf4f-15f8-4f8e-8633-a3a9f313ebe4"
      },
      "source": [
        "### Exercise 5: Fancy Indexing and Masking\n",
        "\n",
        "- Create a 1D NumPy array with random integers between 0 and 50 of size 20. Use fancy indexing to extract elements at indices [2, 5, 7, 10, 15] and print them.\n",
        "\n",
        "- Create a 2D NumPy array with random integers between 0 and 30 of shape (4, 5). Use a boolean mask to select all elements greater than 15 and print them.\n",
        "\n",
        "- Create a 1D NumPy array of 10 random integers between -10 and 10. Use a boolean mask to set all negative values to zero and print the modified array."
      ]
    },
    {
      "cell_type": "markdown",
      "id": "2b302497-04fe-409f-bc03-55b5dfa0f059",
      "metadata": {
        "id": "2b302497-04fe-409f-bc03-55b5dfa0f059"
      },
      "source": [
        "### Exercise 5: Fancy Indexing and Masking\n",
        "\n",
        "- Create a 1D NumPy array with random integers between 0 and 50 of size 20. Use fancy indexing to extract elements at indices [2, 5, 7, 10, 15] and print them.\n",
        "\n",
        "- Create a 2D NumPy array with random integers between 0 and 30 of shape (4, 5). Use a boolean mask to select all elements greater than 15 and print them.\n",
        "\n",
        "- Create a 1D NumPy array of 10 random integers between -10 and 10. Use a boolean mask to set all negative values to zero and print the modified array."
      ]
    },
    {
      "cell_type": "markdown",
      "id": "f180b452-97ed-46e6-bb11-225baa0578a1",
      "metadata": {
        "id": "f180b452-97ed-46e6-bb11-225baa0578a1"
      },
      "source": [
        "### Exercise 7: Combining and Splitting Arrays\n",
        "\n",
        "- Create two 1D NumPy arrays of length 5 with random integers between 0 and 10. Concatenate the two arrays and print the result.\n",
        "\n",
        "- Create a 2D NumPy array of shape (6, 4) with random integers between 0 and 10. Split the array into two equal parts along the row axis and print them.\n",
        "\n",
        "- Create a 2D NumPy array of shape (3, 6) with random integers between 0 and 10. Split the array into three equal parts along the column axis and print them."
      ]
    },
    {
      "cell_type": "markdown",
      "id": "41ad50a7-466b-42cb-8a45-9b724684b47e",
      "metadata": {
        "id": "41ad50a7-466b-42cb-8a45-9b724684b47e"
      },
      "source": [
        "### Exercise 8: Mathematical Functions and Aggregations\n",
        "\n",
        "- Create a 1D NumPy array with random integers between 1 and 100 of size 15. Compute and print the mean, median, standard deviation, and variance of the array.\n",
        "\n",
        "- Create a 2D NumPy array of shape (4, 4) with random integers between 1 and 50. Compute and print the sum of each row and each column.\n",
        "\n",
        "- Create a 3D NumPy array of shape (2, 3, 4) with random integers between 1 and 20. Find the maximum and minimum values along each axis and print them."
      ]
    },
    {
      "cell_type": "markdown",
      "id": "c5e0e742-8ce5-47f6-a71c-1b2b1c9dc736",
      "metadata": {
        "id": "c5e0e742-8ce5-47f6-a71c-1b2b1c9dc736"
      },
      "source": [
        "### Exercise 9: Reshaping and Transposing Arrays\n",
        "\n",
        "- Create a 1D NumPy array with the numbers from 1 to 12. Reshape the array to a 2D array of shape (3, 4) and print it.\n",
        "\n",
        "- Create a 2D NumPy array of shape (3, 4) with random integers between 1 and 10. Transpose the array and print the transposed array.\n",
        "\n",
        "- Create a 2D NumPy array of shape (2, 3) with random integers between 1 and 10. Flatten the array to 1D and print the result."
      ]
    },
    {
      "cell_type": "markdown",
      "id": "1fa80520-2e63-47eb-aaee-146b270ad4d2",
      "metadata": {
        "id": "1fa80520-2e63-47eb-aaee-146b270ad4d2"
      },
      "source": [
        "### Exercise 10: Broadcasting and Vectorized Operations\n",
        "\n",
        "- Create a 2D NumPy array of shape (3, 4) with random integers between 1 and 10. Subtract the mean of each column from the respective column elements and print the result.\n",
        "\n",
        "- Create two 1D NumPy arrays of length 4 with random integers between 1 and 5. Use broadcasting to compute and print the outer product of the two arrays.\n",
        "\n",
        "- Create a 2D NumPy array of shape (4, 5) with random integers between 1 and 10. Add 10 to all elements of the array that are greater than 5 and print the modified array."
      ]
    },
    {
      "cell_type": "markdown",
      "id": "445448b3-8685-42de-9ba1-144026694c0e",
      "metadata": {
        "id": "445448b3-8685-42de-9ba1-144026694c0e"
      },
      "source": [
        "### Exercise 11: Sorting and Searching Arrays\n",
        "\n",
        "- Create a 1D NumPy array with random integers between 1 and 20 of size 10. Sort the array in ascending order and print the sorted array.\n",
        "\n",
        "- Create a 2D NumPy array of shape (3, 5) with random integers between 1 and 50. Sort the array by the second column and print the result.\n",
        "\n",
        "- Create a 1D NumPy array with random integers between 1 and 100 of size 15. Find and print the indices of all elements greater than 50."
      ]
    },
    {
      "cell_type": "markdown",
      "id": "cae87b85-1b79-465b-8f55-88041e823df9",
      "metadata": {
        "id": "cae87b85-1b79-465b-8f55-88041e823df9"
      },
      "source": [
        "### Exercise 12: Linear Algebra with NumPy\n",
        "\n",
        "- Create a 2D NumPy array of shape (2, 2) with random integers between 1 and 10. Compute and print the determinant of the array.\n",
        "\n",
        "- Create a 2D NumPy array of shape (3, 3) with random integers between 1 and 5. Compute and print the eigenvalues and eigenvectors of the array.\n",
        "\n",
        "- Create two 2D NumPy arrays of shape (2, 3) and (3, 2) with random integers between 1 and 10. Compute and print the matrix product of the two arrays."
      ]
    },
    {
      "cell_type": "markdown",
      "id": "eecfc1f7-31bd-4fd5-b2c7-92cf7ee6098a",
      "metadata": {
        "id": "eecfc1f7-31bd-4fd5-b2c7-92cf7ee6098a"
      },
      "source": [
        "### Exercise 13: Random Sampling and Distributions\n",
        "\n",
        "- Create a 1D NumPy array of 10 random samples from a uniform distribution over [0, 1) and print the array.\n",
        "\n",
        "- Create a 2D NumPy array of shape (3, 3) with random samples from a normal distribution with mean 0 and standard deviation 1. Print the array.\n",
        "\n",
        "- Create a 1D NumPy array of 20 random integers between 1 and 100. Compute and print the histogram of the array with 5 bins."
      ]
    },
    {
      "cell_type": "markdown",
      "id": "a26d6e8f-d94c-46d1-97ab-e52e09ded457",
      "metadata": {
        "id": "a26d6e8f-d94c-46d1-97ab-e52e09ded457"
      },
      "source": [
        "### Exercise 14: Advanced Indexing and Selection\n",
        "\n",
        "- Create a 2D NumPy array of shape (5, 5) with random integers between 1 and 20. Select and print the diagonal elements of the array.\n",
        "\n",
        "- Create a 1D NumPy array of 10 random integers between 1 and 50. Use advanced indexing to select and print all elements that are prime numbers.\n",
        "\n",
        "- Create a 2D NumPy array of shape (4, 4) with random integers between 1 and 10. Select and print all elements that are even numbers."
      ]
    },
    {
      "cell_type": "markdown",
      "id": "b54fdda9-0bac-4963-8200-26bf0cb6ed3a",
      "metadata": {
        "id": "b54fdda9-0bac-4963-8200-26bf0cb6ed3a"
      },
      "source": [
        "### Exercise 15: Handling Missing Data\n",
        "\n",
        "- Create a 1D NumPy array of length 10 with random integers between 1 and 10. Introduce `np.nan` at random positions and print the array.\n",
        "\n",
        "- Create a 2D NumPy array of shape (3, 4) with random integers between 1 and 10. Replace all elements that are less than 5 with `np.nan` and print the array.\n",
        "\n",
        "- Create a 1D NumPy array of length 15 with random integers between 1 and 20. Identify and print the indices of all `np.nan` values in the array."
      ]
    },
    {
      "cell_type": "markdown",
      "id": "33d9de84-962e-4abb-baa6-d23ed68d3a8e",
      "metadata": {
        "id": "33d9de84-962e-4abb-baa6-d23ed68d3a8e"
      },
      "source": [
        "### Exercise 16: Performance Optimization with NumPy\n",
        "\n",
        "- Create a large 1D NumPy array with 1 million random integers between 1 and 100. Compute the mean and standard deviation using NumPy functions and measure the time taken.\n",
        "\n",
        "- Create two large 2D NumPy arrays of shape (1000, 1000) with random integers between 1 and 10. Perform element-wise addition and measure the time taken.\n",
        "\n",
        "- Create a 3D NumPy array of shape (100, 100, 100) with random integers between 1 and 10. Compute the sum along each axis and measure the time taken."
      ]
    },
    {
      "cell_type": "markdown",
      "id": "f032400e-d7e4-47dd-846f-b76e7fac9f72",
      "metadata": {
        "id": "f032400e-d7e4-47dd-846f-b76e7fac9f72"
      },
      "source": [
        "### Exercise 17: Cumulative and Aggregate Functions\n",
        "\n",
        "- Create a 1D NumPy array with the numbers from 1 to 10. Compute and print the cumulative sum and cumulative product of the array.\n",
        "\n",
        "- Create a 2D NumPy array of shape (4, 4) with random integers between 1 and 20. Compute and print the cumulative sum along the rows and the columns.\n",
        "\n",
        "- Create a 1D NumPy array with 10 random integers between 1 and 50. Compute and print the minimum, maximum, and sum of the array."
      ]
    },
    {
      "cell_type": "markdown",
      "id": "35575ef6-9d78-46cf-8d62-d0474ba6d98a",
      "metadata": {
        "id": "35575ef6-9d78-46cf-8d62-d0474ba6d98a"
      },
      "source": [
        "### Exercise 18: Working with Dates and Times\n",
        "\n",
        "- Create an array of 10 dates starting from today with a daily frequency and print the array.\n",
        "\n",
        "- Create an array of 5 dates starting from January 1, 2022 with a monthly frequency and print the array.\n",
        "\n",
        "- Create a 1D array with 10 random timestamps in the year 2023. Convert the timestamps to NumPy datetime64 objects and print the result."
      ]
    },
    {
      "cell_type": "markdown",
      "id": "671be5ac-f653-4eae-9e14-94c950436c72",
      "metadata": {
        "id": "671be5ac-f653-4eae-9e14-94c950436c72"
      },
      "source": [
        "### Exercise 19: Creating Arrays with Custom Data Types\n",
        "\n",
        "- Create a 1D NumPy array of length 5 with custom data type to store integers and their corresponding binary representation as strings. Print the array.\n",
        "\n",
        "- Create a 2D NumPy array of shape (3, 3) with a custom data type to store complex numbers. Initialize the array with some complex numbers and print the array.\n",
        "\n",
        "- Create a structured array to store information about books with fields: title (string), author (string), and pages (integer). Add information for three books and print the structured array."
      ]
    },
    {
      "cell_type": "markdown",
      "id": "f2b7c323-ddd3-4099-a178-f7ea83e766d4",
      "metadata": {
        "id": "f2b7c323-ddd3-4099-a178-f7ea83e766d4"
      },
      "source": [
        "### Exercise 20: Creating Arrays with Custom Data Types\n",
        "\n",
        "- Create a 1D NumPy array of length 5 with custom data type to store integers and their corresponding binary representation as strings. Print the array.\n",
        "\n",
        "- Create a 2D NumPy array of shape (3, 3) with a custom data type to store complex numbers. Initialize the array with some complex numbers and print the array.\n",
        "\n",
        "- Create a structured array to store information about books with fields: title (string), author (string), and pages (integer). Add information for three books and print the structured array."
      ]
    }
  ],
  "metadata": {
    "kernelspec": {
      "display_name": "Python 3 (ipykernel)",
      "language": "python",
      "name": "python3"
    },
    "language_info": {
      "codemirror_mode": {
        "name": "ipython",
        "version": 3
      },
      "file_extension": ".py",
      "mimetype": "text/x-python",
      "name": "python",
      "nbconvert_exporter": "python",
      "pygments_lexer": "ipython3",
      "version": "3.11.7"
    },
    "colab": {
      "provenance": []
    }
  },
  "nbformat": 4,
  "nbformat_minor": 5
}