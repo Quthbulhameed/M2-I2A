{
  "cells": [
    {
      "cell_type": "markdown",
      "id": "356baed6-9285-4e9f-9ea3-107620ce97d3",
      "metadata": {
        "id": "356baed6-9285-4e9f-9ea3-107620ce97d3"
      },
      "source": [
        "\n",
        "**DJIAVOUDINE**\n",
        "\n",
        "**Quthbulhameed**\n",
        "\n",
        "**M2 I2A**\n"
      ]
    },
    {
      "cell_type": "markdown",
      "source": [
        "# Quiz: NumPy Fundamentals"
      ],
      "metadata": {
        "id": "cOMP9xo7LnRN"
      },
      "id": "cOMP9xo7LnRN"
    },
    {
      "cell_type": "markdown",
      "source": [
        "### Question 1:\n",
        "Which of the following is true about NumPy arrays?\n",
        "- a) They can contain elements of different data types.\n",
        "- b) They are dynamically typed.\n",
        "- c) They support efficient mathematical operations such as matrix multiplication.\n",
        "- d) They are less memory efficient than Python lists."
      ],
      "metadata": {
        "id": "rTZK2snOLvT2"
      },
      "id": "rTZK2snOLvT2"
    },
    {
      "cell_type": "markdown",
      "source": [
        "Rep: **C**"
      ],
      "metadata": {
        "id": "wGPmrOFzLyrj"
      },
      "id": "wGPmrOFzLyrj"
    },
    {
      "cell_type": "markdown",
      "source": [
        "### Question 2:\n",
        "How do you create a 2D NumPy array from a nested list `[[1, 2], [3, 4]]`?\n",
        "- a) `np.array([1, 2, 3, 4])`\n",
        "- b) `np.array([[1, 2], [3, 4]])`\n",
        "- c) `np.ndarray([[1, 2], [3, 4]])`\n",
        "- d) `np.matrix([[1, 2], [3, 4]])`"
      ],
      "metadata": {
        "id": "AwWyxIETL63R"
      },
      "id": "AwWyxIETL63R"
    },
    {
      "cell_type": "markdown",
      "source": [
        "Rep: **B**"
      ],
      "metadata": {
        "id": "_yZ4T7_eL85g"
      },
      "id": "_yZ4T7_eL85g"
    },
    {
      "cell_type": "markdown",
      "source": [
        "### Question 3:\n",
        "What is the output of the following code?\n",
        "\n",
        "import numpy as np\n",
        "a = np.arange(6).reshape(2, 3)\n",
        "print(a[-1, -1])\n",
        "\n",
        "- a) 3\n",
        "- b) 4\n",
        "- c) 5\n",
        "- d) 6"
      ],
      "metadata": {
        "id": "5owMj2IIMWRS"
      },
      "id": "5owMj2IIMWRS"
    },
    {
      "cell_type": "markdown",
      "source": [
        "Rep: **C**"
      ],
      "metadata": {
        "id": "p7fgtOhDMav1"
      },
      "id": "p7fgtOhDMav1"
    },
    {
      "cell_type": "markdown",
      "source": [
        "### Question 4:\n",
        "Which function is used to create an array with values from 0 to 10, spaced evenly by 2?\n",
        "- a) `np.arange(0, 10, 2)`\n",
        "- b) `np.linspace(0, 10, 2)`\n",
        "- c) `np.arange(0, 10, step=2)`\n",
        "- d) Both a and c"
      ],
      "metadata": {
        "id": "oeJPWj2WPiJY"
      },
      "id": "oeJPWj2WPiJY"
    },
    {
      "cell_type": "markdown",
      "source": [
        "Rep: **D**"
      ],
      "metadata": {
        "id": "ffe59L3uPnwy"
      },
      "id": "ffe59L3uPnwy"
    },
    {
      "cell_type": "markdown",
      "source": [
        "### Question 5:\n",
        "What does the `np.zeros((3, 4))` function do?\n",
        "- a) Creates a 1D array with 12 zeros.\n",
        "- b) Creates a 2D array with 3 rows and 4 columns, filled with zeros.\n",
        "- c) Creates a 3D array with 3 layers and 4 elements in each layer, filled with zeros.\n",
        "- d) Creates a 2D array with 4 rows and 3 columns, filled with zeros."
      ],
      "metadata": {
        "id": "TjKS6agmPtZK"
      },
      "id": "TjKS6agmPtZK"
    },
    {
      "cell_type": "markdown",
      "source": [
        "Rep: **B**"
      ],
      "metadata": {
        "id": "_U3sty0ePvya"
      },
      "id": "_U3sty0ePvya"
    },
    {
      "cell_type": "markdown",
      "source": [
        "### Question 6:\n",
        "How can you find the shape of a NumPy array `arr`?\n",
        "- a) `arr.shape()`\n",
        "- b) `np.shape(arr)`\n",
        "- c) `arr.shape`\n",
        "- d) `np.shape()"
      ],
      "metadata": {
        "id": "VElg0eNmQcdl"
      },
      "id": "VElg0eNmQcdl"
    },
    {
      "cell_type": "markdown",
      "source": [
        "Rep: **C**"
      ],
      "metadata": {
        "id": "TFCm3HsPQdgX"
      },
      "id": "TFCm3HsPQdgX"
    },
    {
      "cell_type": "markdown",
      "source": [
        "### Question 7:\n",
        "What is the result of the following slicing operation?\n",
        "\n",
        "arr = np.array([10, 20, 30, 40, 50])\n",
        "print(arr[1:4])\n",
        "\n",
        "- a) `[10, 20, 30]`\n",
        "- b) `[20, 30, 40]`\n",
        "- c) `[20, 30, 40, 50]`\n",
        "- d) `[30, 40, 50]`"
      ],
      "metadata": {
        "id": "B_l1yk9eRE2O"
      },
      "id": "B_l1yk9eRE2O"
    },
    {
      "cell_type": "markdown",
      "source": [
        "Rep: **B**"
      ],
      "metadata": {
        "id": "XGWgoQiYRICe"
      },
      "id": "XGWgoQiYRICe"
    },
    {
      "cell_type": "markdown",
      "source": [
        "### Question 8:\n",
        "Which function is used to perform element-wise multiplication of two arrays `a` and `b`?\n",
        "- a) `np.dot(a, b)`\n",
        "- b) `a * b`\n",
        "- c) `np.multiply(a, b)`\n",
        "- d) Both b and c"
      ],
      "metadata": {
        "id": "_0pKWY7yR2Ou"
      },
      "id": "_0pKWY7yR2Ou"
    },
    {
      "cell_type": "markdown",
      "source": [
        "Rep: **D**"
      ],
      "metadata": {
        "id": "tjvvFh06R3iT"
      },
      "id": "tjvvFh06R3iT"
    },
    {
      "cell_type": "markdown",
      "source": [
        "### Question 9:\n",
        "How do you create a 1D NumPy array with values from 0 to 1 (inclusive) with 5 evenly spaced intervals?\n",
        "- a) `np.linspace(0, 1, 5)`\n",
        "- b) `np.arange(0, 1, 5)`\n",
        "- c) `np.arange(0, 1, step=0.2)`\n",
        "- d) Both a and c\n"
      ],
      "metadata": {
        "id": "LeUm8rkkSE71"
      },
      "id": "LeUm8rkkSE71"
    },
    {
      "cell_type": "markdown",
      "source": [
        "Rep: **A**"
      ],
      "metadata": {
        "id": "xfdpLtl8SI3Y"
      },
      "id": "xfdpLtl8SI3Y"
    },
    {
      "cell_type": "markdown",
      "source": [
        "### Question 10:\n",
        "Which of the following commands will correctly calculate the dot product of two 1D arrays `a` and `b`?\n",
        "- a) `np.multiply(a, b)`\n",
        "- b) `np.dot(a, b)`\n",
        "- c) `a * b`\n",
        "- d) `np.sum(a, b)`"
      ],
      "metadata": {
        "id": "18XRBYVTSM4E"
      },
      "id": "18XRBYVTSM4E"
    },
    {
      "cell_type": "markdown",
      "source": [
        "Rep: **B**"
      ],
      "metadata": {
        "id": "FoTP5LUpSNis"
      },
      "id": "FoTP5LUpSNis"
    },
    {
      "cell_type": "code",
      "source": [],
      "metadata": {
        "id": "Ews0Eun8L6OX"
      },
      "id": "Ews0Eun8L6OX",
      "execution_count": null,
      "outputs": []
    },
    {
      "cell_type": "code",
      "source": [],
      "metadata": {
        "id": "4f_pTQHbLdjd"
      },
      "id": "4f_pTQHbLdjd",
      "execution_count": null,
      "outputs": []
    }
  ],
  "metadata": {
    "kernelspec": {
      "display_name": "Python 3 (ipykernel)",
      "language": "python",
      "name": "python3"
    },
    "language_info": {
      "codemirror_mode": {
        "name": "ipython",
        "version": 3
      },
      "file_extension": ".py",
      "mimetype": "text/x-python",
      "name": "python",
      "nbconvert_exporter": "python",
      "pygments_lexer": "ipython3",
      "version": "3.11.7"
    },
    "colab": {
      "provenance": []
    }
  },
  "nbformat": 4,
  "nbformat_minor": 5
}